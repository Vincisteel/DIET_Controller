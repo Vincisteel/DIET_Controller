{
 "cells": [
  {
   "cell_type": "code",
   "execution_count": 1,
   "metadata": {},
   "outputs": [
    {
     "name": "stderr",
     "output_type": "stream",
     "text": [
      "\n"
     ]
    }
   ],
   "source": [
    "from typing import Dict, List, Tuple\n",
    "import torch\n",
    "import numpy as np\n",
    "import gym\n",
    "import json\n",
    "from plotly.subplots import make_subplots\n",
    "from DQN_Agent import *\n",
    "from Logger import *\n",
    "\n",
    "\n",
    "%load_ext autoreload\n",
    "%autoreload 2"
   ]
  },
  {
   "cell_type": "markdown",
   "metadata": {},
   "source": [
    "## Set environment and agent parameters"
   ]
  },
  {
   "cell_type": "code",
   "execution_count": 2,
   "metadata": {},
   "outputs": [],
   "source": [
    "env_arguments = {\n",
    "\"alpha\":1,\n",
    "\"beta\":1,\n",
    "\"min_temp\" : 16,\n",
    "\"max_temp\" : 21,\n",
    "\"action_dim\": 100,\n",
    "\"modelname\":'CELLS_v1.fmu',\n",
    "\"simulation_path\":  r'C:\\Users\\Harold\\Desktop\\ENAC-Semester-Project\\DIET_Controller\\custom_gym\\Eplus_simulation',\n",
    "\"param_list\": ['Tair', 'RH', 'Tmrt', 'Tout', 'Qheat', 'Occ'],\n",
    "\"days\": 151,  \n",
    "\"hours\": 24,  \n",
    "\"minutes\": 60,\n",
    "\"seconds\": 60,\n",
    "\"ep_timestep\": 6\n",
    "}\n",
    "\n",
    "agent_arguments = {\n",
    "\"memory_size\": [1000],\n",
    "\"batch_size\": [32],\n",
    "\"target_update\": [100],\n",
    "\"epsilon_decay\": [1 / 20000],\n",
    "\"max_epsilon\": [1],\n",
    "\"min_epsilon\":  [0.0],\n",
    "\"gamma\": [0.99],\n",
    "\"inside_dim\": [128],\n",
    "\"num_hidden_layers\": [1],\n",
    "\"seed\": [778]\n",
    "}"
   ]
  },
  {
   "cell_type": "code",
   "execution_count": null,
   "metadata": {},
   "outputs": [],
   "source": [
    "def cumulative_reward(data:pd.DataFrame) -> float:\n",
    "    return np.cumsum(np.array(data[\"reward\"]))[-1]"
   ]
  },
  {
   "cell_type": "code",
   "execution_count": 3,
   "metadata": {},
   "outputs": [
    {
     "name": "stdout",
     "output_type": "stream",
     "text": [
      "Agent Action_dim100\n",
      "Env action_dim 100\n",
      " BETA 1\n",
      "Iteration0\n",
      "Iteration100\n",
      "Iteration200\n",
      "Iteration300\n",
      "Iteration400\n",
      "Iteration500\n",
      "Iteration600\n",
      "Iteration700\n",
      "Iteration800\n",
      "Iteration900\n",
      "Iteration1000\n",
      "Iteration1100\n",
      "Iteration1200\n",
      "Iteration1300\n",
      "Iteration1400\n",
      "Iteration1500\n",
      "Iteration1600\n",
      "Iteration1700\n",
      "Iteration1800\n",
      "Iteration1900\n",
      "Iteration2000\n",
      "Iteration2100\n",
      "Iteration2200\n",
      "Iteration2300\n",
      "Iteration2400\n",
      "Iteration2500\n",
      "Iteration2600\n",
      "Iteration2700\n",
      "Iteration2800\n",
      "Iteration2900\n",
      "Iteration3000\n",
      "Iteration3100\n",
      "Iteration3200\n",
      "Iteration3300\n",
      "Iteration3400\n",
      "Iteration3500\n",
      "Iteration3600\n",
      "Iteration3700\n",
      "Iteration3800\n",
      "Iteration3900\n",
      "Iteration4000\n",
      "Iteration4100\n",
      "Iteration4200\n",
      "Iteration4300\n",
      "Iteration4400\n",
      "Iteration4500\n",
      "Iteration4600\n",
      "Iteration4700\n",
      "Iteration4800\n",
      "Iteration4900\n",
      "Iteration5000\n",
      "Iteration5100\n",
      "Iteration5200\n",
      "Iteration5300\n",
      "Iteration5400\n",
      "Iteration5500\n",
      "Iteration5600\n",
      "Iteration5700\n",
      "Iteration5800\n",
      "Iteration5900\n",
      "Iteration6000\n",
      "Iteration6100\n",
      "Iteration6200\n",
      "Iteration6300\n",
      "Iteration6400\n",
      "Iteration6500\n",
      "Iteration6600\n",
      "Iteration6700\n",
      "Iteration6800\n",
      "Iteration6900\n",
      "Iteration7000\n",
      "Iteration7100\n",
      "Iteration7200\n",
      "Iteration7300\n",
      "Iteration7400\n",
      "Iteration7500\n",
      "Iteration7600\n",
      "Iteration7700\n",
      "Iteration7800\n",
      "Iteration7900\n",
      "Iteration8000\n",
      "Iteration8100\n",
      "Iteration8200\n",
      "Iteration8300\n",
      "Iteration8400\n",
      "Iteration8500\n",
      "Iteration8600\n",
      "Iteration8700\n",
      "Iteration8800\n",
      "Iteration8900\n",
      "Iteration9000\n",
      "Iteration9100\n",
      "Iteration9200\n",
      "Iteration9300\n",
      "Iteration9400\n",
      "Iteration9500\n",
      "Iteration9600\n",
      "Iteration9700\n",
      "Iteration9800\n",
      "Iteration9900\n",
      "Iteration10000\n",
      "Iteration10100\n",
      "Iteration10200\n",
      "Iteration10300\n",
      "Iteration10400\n",
      "Iteration10500\n",
      "Iteration10600\n",
      "Iteration10700\n",
      "Iteration10800\n",
      "Iteration10900\n",
      "Iteration11000\n",
      "Iteration11100\n",
      "Iteration11200\n",
      "Iteration11300\n",
      "Iteration11400\n",
      "Iteration11500\n",
      "Iteration11600\n",
      "Iteration11700\n",
      "Iteration11800\n",
      "Iteration11900\n",
      "Iteration12000\n",
      "Iteration12100\n",
      "Iteration12200\n",
      "Iteration12300\n",
      "Iteration12400\n",
      "Iteration12500\n",
      "Iteration12600\n",
      "Iteration12700\n",
      "Iteration12800\n",
      "Iteration12900\n",
      "Iteration13000\n",
      "Iteration13100\n",
      "Iteration13200\n",
      "Iteration13300\n",
      "Iteration13400\n",
      "Iteration13500\n",
      "Iteration13600\n",
      "Iteration13700\n",
      "Iteration13800\n",
      "Iteration13900\n",
      "Iteration14000\n",
      "Iteration14100\n",
      "Iteration14200\n",
      "Iteration14300\n",
      "Iteration14400\n",
      "Iteration14500\n",
      "Iteration14600\n",
      "Iteration14700\n",
      "Iteration14800\n",
      "Iteration14900\n",
      "Iteration15000\n",
      "Iteration15100\n",
      "Iteration15200\n",
      "Iteration15300\n",
      "Iteration15400\n",
      "Iteration15500\n",
      "Iteration15600\n",
      "Iteration15700\n",
      "Iteration15800\n",
      "Iteration15900\n",
      "Iteration16000\n",
      "Iteration16100\n",
      "Iteration16200\n",
      "Iteration16300\n",
      "Iteration16400\n",
      "Iteration16500\n",
      "Iteration16600\n",
      "Iteration16700\n",
      "Iteration16800\n",
      "Iteration16900\n",
      "Iteration17000\n",
      "Iteration17100\n",
      "Iteration17200\n",
      "Iteration17300\n",
      "Iteration17400\n",
      "Iteration17500\n",
      "Iteration17600\n",
      "Iteration17700\n",
      "Iteration17800\n",
      "Iteration17900\n",
      "Iteration18000\n",
      "Iteration18100\n",
      "Iteration18200\n",
      "Iteration18300\n",
      "Iteration18400\n",
      "Iteration18500\n",
      "Iteration18600\n",
      "Iteration18700\n",
      "Iteration18800\n",
      "Iteration18900\n",
      "Iteration19000\n",
      "Iteration19100\n",
      "Iteration19200\n",
      "Iteration19300\n",
      "Iteration19400\n",
      "Iteration19500\n",
      "Iteration19600\n",
      "Iteration19700\n",
      "Iteration19800\n",
      "Iteration19900\n",
      "Iteration20000\n",
      "Iteration20100\n",
      "Iteration20200\n",
      "Iteration20300\n",
      "Iteration20400\n",
      "Iteration20500\n",
      "Iteration20600\n",
      "Iteration20700\n",
      "Iteration20800\n",
      "Iteration20900\n",
      "Iteration21000\n",
      "Iteration21100\n",
      "Iteration21200\n",
      "Iteration21300\n",
      "Iteration21400\n",
      "Iteration21500\n",
      "Iteration21600\n",
      "Iteration21700\n"
     ]
    },
    {
     "data": {
      "text/plain": [
       "'C:\\\\Users\\\\Harold\\\\Desktop\\\\ENAC-Semester-Project\\\\DIET_Controller/results/2022_5_10/results_2022_5_10_15_0'"
      ]
     },
     "execution_count": 3,
     "metadata": {},
     "output_type": "execute_result"
    },
    {
     "data": {
      "image/png": "[encoded data removed]",
      "text/plain": [
       "<Figure size 1080x504 with 1 Axes>"
      ]
     },
     "metadata": {
      "needs_background": "light"
     },
     "output_type": "display_data"
    }
   ],
   "source": [
    "from utils import all_combinations_list\n",
    "\n",
    "best_reward = -np.inf\n",
    "best_path = \"\"\n",
    "\n",
    "logging_path = r\"C:\\Users\\Harold\\Desktop\\ENAC-Semester-Project\\DIET_Controller\"\n",
    "\n",
    "for curr_agent_arguments in all_combinations_list(agent_arguments):\n",
    "\n",
    "    env = gym.make('EnergyPlusEnv-v0')\n",
    "    env.set_arguments(env_arguments)\n",
    "\n",
    "    agent = DQNAgent(env,dict_arguments=curr_agent_arguments)\n",
    "    results_path, summary_df = agent.train(logging_path= logging_path, num_episodes=1, num_iterations=None ,log=True)\n",
    "    total_cum_reward = cumulative_reward(summary_df)\n",
    "    if total_cum_reward > best_reward:\n",
    "        best_reward = total_cum_reward\n",
    "        best_path = results_path\n",
    "  \n",
    "\n",
    "best_path\n",
    "\n"
   ]
  },
  {
   "cell_type": "code",
   "execution_count": 4,
   "metadata": {},
   "outputs": [
    {
     "data": {
      "text/plain": [
       "{WindowsPath('C:/Users/Harold/Desktop/ENAC-Semester-Project/DIET_Controller/results/2022_4_30/results_2022_4_30_14_54/experiments_csv/experiments_results_1.csv'): 0.5350667456999525,\n",
       " WindowsPath('C:/Users/Harold/Desktop/ENAC-Semester-Project/DIET_Controller/results/2022_4_30/results_2022_4_30_14_54/experiments_csv/experiments_results_2.csv'): 0.5619388214374257,\n",
       " WindowsPath('C:/Users/Harold/Desktop/ENAC-Semester-Project/DIET_Controller/results/2022_4_30/results_2022_4_30_14_54/experiments_csv/experiments_results_summary.csv'): 0.560152310902544}"
      ]
     },
     "execution_count": 4,
     "metadata": {},
     "output_type": "execute_result"
    }
   ],
   "source": [
    "from utils import assess_performance\n",
    "\n",
    "assess_performance(r'C:/Users/Harold/Desktop/ENAC-Semester-Project/DIET_Controller/results/2022_4_30/results_2022_4_30_14_54/')"
   ]
  },
  {
   "cell_type": "code",
   "execution_count": 6,
   "metadata": {},
   "outputs": [
    {
     "data": {
      "text/plain": [
       "(array([WindowsPath('C:/Users/Harold/Desktop/ENAC-Semester-Project/DIET_Controller/results/2022_4_30/results_2022_4_30_16_20/env_params_2022_4_30_16_20.json'),\n",
       "        WindowsPath('C:/Users/Harold/Desktop/ENAC-Semester-Project/DIET_Controller/results/2022_4_30/results_2022_4_30_15_39/env_params_2022_4_30_15_39.json'),\n",
       "        WindowsPath('C:/Users/Harold/Desktop/ENAC-Semester-Project/DIET_Controller/results/2022_4_30/results_2022_4_30_16_10/env_params_2022_4_30_16_10.json'),\n",
       "        WindowsPath('C:/Users/Harold/Desktop/ENAC-Semester-Project/DIET_Controller/results/2022_4_30/results_2022_4_30_15_50/env_params_2022_4_30_15_50.json'),\n",
       "        WindowsPath('C:/Users/Harold/Desktop/ENAC-Semester-Project/DIET_Controller/results/2022_4_30/results_2022_4_30_22_49/env_params_2022_4_30_22_49.json'),\n",
       "        WindowsPath('C:/Users/Harold/Desktop/ENAC-Semester-Project/DIET_Controller/results/2022_4_30/results_2022_4_30_22_31/env_params_2022_4_30_22_31.json'),\n",
       "        WindowsPath('C:/Users/Harold/Desktop/ENAC-Semester-Project/DIET_Controller/results/2022_4_30/results_2022_4_30_22_18/env_params_2022_4_30_22_18.json'),\n",
       "        WindowsPath('C:/Users/Harold/Desktop/ENAC-Semester-Project/DIET_Controller/results/2022_5_2/results_2022_5_2_21_56/env_params_2022_5_2_21_56.json'),\n",
       "        WindowsPath('C:/Users/Harold/Desktop/ENAC-Semester-Project/DIET_Controller/results/2022_4_30/results_2022_4_30_22_1/env_params_2022_4_30_22_1.json'),\n",
       "        WindowsPath('C:/Users/Harold/Desktop/ENAC-Semester-Project/DIET_Controller/results/2022_5_2/results_2022_5_2_21_42/env_params_2022_5_2_21_42.json')],\n",
       "       dtype=object),\n",
       " array([WindowsPath('C:/Users/Harold/Desktop/ENAC-Semester-Project/DIET_Controller/results/2022_5_2/results_2022_5_2_21_42/env_params_2022_5_2_21_42.json'),\n",
       "        WindowsPath('C:/Users/Harold/Desktop/ENAC-Semester-Project/DIET_Controller/results/2022_5_2/results_2022_5_2_21_56/env_params_2022_5_2_21_56.json'),\n",
       "        WindowsPath('C:/Users/Harold/Desktop/ENAC-Semester-Project/DIET_Controller/results/2022_4_30/results_2022_4_30_22_1/env_params_2022_4_30_22_1.json'),\n",
       "        WindowsPath('C:/Users/Harold/Desktop/ENAC-Semester-Project/DIET_Controller/results/2022_4_30/results_2022_4_30_22_31/env_params_2022_4_30_22_31.json'),\n",
       "        WindowsPath('C:/Users/Harold/Desktop/ENAC-Semester-Project/DIET_Controller/results/2022_4_30/results_2022_4_30_22_18/env_params_2022_4_30_22_18.json'),\n",
       "        WindowsPath('C:/Users/Harold/Desktop/ENAC-Semester-Project/DIET_Controller/results/2022_4_30/results_2022_4_30_15_50/env_params_2022_4_30_15_50.json'),\n",
       "        WindowsPath('C:/Users/Harold/Desktop/ENAC-Semester-Project/DIET_Controller/results/2022_4_30/results_2022_4_30_22_49/env_params_2022_4_30_22_49.json'),\n",
       "        WindowsPath('C:/Users/Harold/Desktop/ENAC-Semester-Project/DIET_Controller/results/2022_4_30/results_2022_4_30_15_39/env_params_2022_4_30_15_39.json'),\n",
       "        WindowsPath('C:/Users/Harold/Desktop/ENAC-Semester-Project/DIET_Controller/results/2022_4_30/results_2022_4_30_16_10/env_params_2022_4_30_16_10.json'),\n",
       "        WindowsPath('C:/Users/Harold/Desktop/ENAC-Semester-Project/DIET_Controller/results/2022_4_30/results_2022_4_30_16_20/env_params_2022_4_30_16_20.json')],\n",
       "       dtype=object))"
      ]
     },
     "execution_count": 6,
     "metadata": {},
     "output_type": "execute_result"
    }
   ],
   "source": [
    "# Example of how to use the function: \n",
    "\n",
    "from utils import search_paths\n",
    "\n",
    "searching_directory = r\"C:\\Users\\Harold\\Desktop\\ENAC-Semester-Project\\DIET_Controller\"\n",
    "\n",
    "conditions={\n",
    "    \"num_iterations\": [\"=\",21744], # to only have have trainings where the full simulation was used\n",
    "    \"num_episodes\":[\"=\",3],\n",
    "    \"alpha\":[\"=\",1],\n",
    "    \"beta\":[\"=\",1],\n",
    "    \"num_hidden_layers\":[\">\",2]\n",
    "}\n",
    "\n",
    "path_list, best_reward_path, best_heat_path = search_paths(searching_directory,conditions=conditions, top_k=10)\n",
    "\n",
    "best_reward_path, best_heat_path"
   ]
  },
  {
   "cell_type": "code",
   "execution_count": 2,
   "metadata": {},
   "outputs": [],
   "source": [
    "import pandas as pd"
   ]
  },
  {
   "cell_type": "code",
   "execution_count": null,
   "metadata": {},
   "outputs": [],
   "source": []
  },
  {
   "cell_type": "code",
   "execution_count": 8,
   "metadata": {},
   "outputs": [],
   "source": [
    "df = pd.read_csv(r\"C:\\Users\\Harold\\Desktop\\ENAC-Semester-Project\\DIET_Controller\\results\\2022_5_10\\results_2022_5_10_15_0\\experiments_csv\\experiments_results_1.csv\")"
   ]
  },
  {
   "cell_type": "code",
   "execution_count": 25,
   "metadata": {},
   "outputs": [
    {
     "data": {
      "text/plain": [
       "9.29127544589991e-05"
      ]
     },
     "execution_count": 25,
     "metadata": {},
     "output_type": "execute_result"
    }
   ],
   "source": [
    "row = (df.action - df.action.shift(1))\n",
    "row[0] = 0\n",
    "\n",
    "row.rolling(window=2).mean().mean()"
   ]
  }
 ],
 "metadata": {
  "interpreter": {
   "hash": "6b6b609373cab7b4f35f89e556fae7285533d0878866e99b2da014c0f4ef9f7d"
  },
  "kernelspec": {
   "display_name": "Python 3.8.12 ('base')",
   "language": "python",
   "name": "python3"
  },
  "language_info": {
   "codemirror_mode": {
    "name": "ipython",
    "version": 3
   },
   "file_extension": ".py",
   "mimetype": "text/x-python",
   "name": "python",
   "nbconvert_exporter": "python",
   "pygments_lexer": "ipython3",
   "version": "3.8.12"
  },
  "orig_nbformat": 4
 },
 "nbformat": 4,
 "nbformat_minor": 2
}
