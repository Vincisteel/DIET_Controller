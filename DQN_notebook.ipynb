{
 "cells": [
  {
   "cell_type": "code",
   "execution_count": 1,
   "metadata": {},
   "outputs": [
    {
     "name": "stderr",
     "output_type": "stream",
     "text": [
      "\n"
     ]
    }
   ],
   "source": [
    "from typing import Dict, List, Tuple\n",
    "import torch\n",
    "import numpy as np\n",
    "import gym\n",
    "import json\n",
    "from plotly.subplots import make_subplots\n",
    "from DQN_Agent import *\n",
    "from Logger import *\n",
    "\n",
    "\n",
    "%load_ext autoreload\n",
    "%autoreload 2"
   ]
  },
  {
   "cell_type": "markdown",
   "metadata": {},
   "source": [
    "## Set random seed"
   ]
  },
  {
   "cell_type": "code",
   "execution_count": 2,
   "metadata": {},
   "outputs": [],
   "source": [
    "numpy_seed = 778\n",
    "\n",
    "\n",
    "def seed_torch(seed):\n",
    "    torch.manual_seed(seed)\n",
    "    if torch.backends.cudnn.enabled:\n",
    "        torch.backends.cudnn.benchmark = False\n",
    "        torch.backends.cudnn.deterministic = True\n",
    "\n",
    "np.random.seed(numpy_seed)\n",
    "seed_torch(numpy_seed)\n"
   ]
  },
  {
   "cell_type": "markdown",
   "metadata": {},
   "source": [
    "## Set environment parameters"
   ]
  },
  {
   "cell_type": "code",
   "execution_count": 3,
   "metadata": {},
   "outputs": [
    {
     "name": "stdout",
     "output_type": "stream",
     "text": [
      "Agent Action_dim100\n"
     ]
    }
   ],
   "source": [
    "env_seed = 772\n",
    "env = gym.make('EnergyPlusEnv-v0')\n",
    "env.seed(env_seed)\n",
    "\n",
    "\n",
    "\n",
    "\n",
    "env_arguments = {\n",
    "\"alpha\":1,\n",
    "\"beta\":3,\n",
    "\"min_temp\" : 16,\n",
    "\"max_temp\" : 21,\n",
    "\"action_dim\": 100,\n",
    "\"modelname\":'CELLS_v1.fmu',\n",
    "\"simulation_path\":  r'C:\\Users\\Harold\\Desktop\\ENAC-Semester-Project\\DIET_Controller\\custom_gym\\Eplus_simulation',\n",
    "\"param_list\": ['Tair', 'RH', 'Tmrt', 'Tout', 'Qheat', 'Occ'],\n",
    "\"days\": 151,  \n",
    "\"hours\": 24,  \n",
    "\"minutes\": 60,\n",
    "\"seconds\": 60,\n",
    "\"ep_timestep\": 6\n",
    "}\n",
    "\n",
    "env.set_arguments(env_arguments)\n",
    "\n",
    "\n",
    "memory_size = 1000\n",
    "batch_size = 32\n",
    "target_update = 100\n",
    "epsilon_decay = 1 / 20000\n",
    "max_epsilon = 1\n",
    "min_epsilon = 0.0\n",
    "gamma = 0.99\n",
    "inside_dim = 512\n",
    "num_hidden_layers = 4\n",
    "\n",
    "agent = DQNAgent(env,memory_size,batch_size,target_update,epsilon_decay,max_epsilon=max_epsilon, min_epsilon=min_epsilon, inside_dim=inside_dim, num_hidden_layers=num_hidden_layers)"
   ]
  },
  {
   "cell_type": "code",
   "execution_count": 4,
   "metadata": {},
   "outputs": [
    {
     "name": "stdout",
     "output_type": "stream",
     "text": [
      "Env action_dim 100\n",
      " BETA 3\n",
      "Iteration0\n"
     ]
    }
   ],
   "source": [
    "agent.train(num_episodes=1, num_iterations=100 ,log=False)"
   ]
  },
  {
   "cell_type": "code",
   "execution_count": 5,
   "metadata": {},
   "outputs": [],
   "source": [
    "#from pyfmi import load_fmu\n",
    "#import numpy as np\n",
    "#os.chdir(r'C:\\Users\\Harold\\Desktop\\test_fmu')\n",
    "#model = load_fmu(\"CELLS_v1.fmu\",log_level=4)\n",
    "#\n",
    "#\n",
    "#simtime = 0\n",
    "#days = 151 \n",
    "#hours = 24  \n",
    "#minutes = 6\n",
    "#seconds = 60\n",
    "#ep_timestep = 6\n",
    "#\n",
    "#numsteps = days * hours * ep_timestep       # total number of simulation steps during the simulationx\n",
    "#timestop = days * hours * minutes * seconds # total time length of our simulation\n",
    "#secondstep = timestop / numsteps  # length of a single step in seconds\n",
    "#simtime = 0                                # keeps track of current time in the simulation\n",
    "#\n",
    "#opts = model.simulate_options()  # Get the default options\n",
    "#opts['ncp'] = numsteps  # Specifies the number of timesteps\n",
    "#opts['initialize'] = False\n",
    "#\n",
    "#\n",
    "##model.initialize(simtime, timestop)\n",
    "#model.initialize(start_time = simtime, stop_time_defined = True, stop_time = 86400)\n",
    "#curr_obs = np.array(list(model.get(['Tair', 'RH', 'Tmrt', 'Tout', 'Qheat', 'Occ'])))"
   ]
  }
 ],
 "metadata": {
  "interpreter": {
   "hash": "e78a7ef29a5e3028f948eff69c34ba1d8ebd35a887497a02775c6aab840f6bc2"
  },
  "kernelspec": {
   "display_name": "Python 3.8.12 ('base')",
   "language": "python",
   "name": "python3"
  },
  "language_info": {
   "codemirror_mode": {
    "name": "ipython",
    "version": 3
   },
   "file_extension": ".py",
   "mimetype": "text/x-python",
   "name": "python",
   "nbconvert_exporter": "python",
   "pygments_lexer": "ipython3",
   "version": "3.8.12"
  },
  "orig_nbformat": 4
 },
 "nbformat": 4,
 "nbformat_minor": 2
}
