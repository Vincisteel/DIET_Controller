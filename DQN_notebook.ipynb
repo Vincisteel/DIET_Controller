{
 "cells": [
  {
   "cell_type": "code",
   "execution_count": 1,
   "metadata": {},
   "outputs": [
    {
     "name": "stderr",
     "output_type": "stream",
     "text": [
      "\n"
     ]
    }
   ],
   "source": [
    "from typing import Dict, List, Tuple\n",
    "import torch\n",
    "import numpy as np\n",
    "import gym\n",
    "import json\n",
    "from plotly.subplots import make_subplots\n",
    "from DQN_Agent import *\n",
    "from Logger import *\n",
    "\n",
    "\n",
    "%load_ext autoreload\n",
    "%autoreload 2"
   ]
  },
  {
   "cell_type": "markdown",
   "metadata": {},
   "source": [
    "## Set environment and agent parameters"
   ]
  },
  {
   "cell_type": "code",
   "execution_count": 2,
   "metadata": {},
   "outputs": [],
   "source": [
    "env_arguments = {\n",
    "\"alpha\":1,\n",
    "\"beta\":1,\n",
    "\"min_temp\" : 16,\n",
    "\"max_temp\" : 21,\n",
    "\"action_dim\": 100,\n",
    "\"modelname\":'CELLS_v1.fmu',\n",
    "\"simulation_path\":  r'C:\\Users\\Harold\\Desktop\\ENAC-Semester-Project\\DIET_Controller\\custom_gym\\Eplus_simulation',\n",
    "\"param_list\": ['Tair', 'RH', 'Tmrt', 'Tout', 'Qheat', 'Occ'],\n",
    "\"days\": 151,  \n",
    "\"hours\": 24,  \n",
    "\"minutes\": 60,\n",
    "\"seconds\": 60,\n",
    "\"ep_timestep\": 6\n",
    "}\n",
    "\n",
    "agent_arguments = {\n",
    "\"memory_size\": [1000],\n",
    "\"batch_size\": [32],\n",
    "\"target_update\": [100],\n",
    "\"epsilon_decay\": [1 / 20000],\n",
    "\"max_epsilon\": [1],\n",
    "\"min_epsilon\":  [0.0],\n",
    "\"gamma\": [0.99],\n",
    "\"inside_dim\": [128,256],\n",
    "\"num_hidden_layers\": [1],\n",
    "\"seed\": [778]\n",
    "}"
   ]
  },
  {
   "cell_type": "code",
   "execution_count": 3,
   "metadata": {},
   "outputs": [
    {
     "name": "stdout",
     "output_type": "stream",
     "text": [
      "Agent Action_dim100\n",
      "Env action_dim 100\n",
      " BETA 1\n",
      "Iteration0\n",
      "Iteration100\n",
      "Iteration200\n",
      "(226.1573406953302, 31261869.974988677, 'c:\\\\Users\\\\Harold\\\\Desktop\\\\ENAC-Semester-Project\\\\DIET_Controller/results/2022_4_29/results_2022_4_29_18_4')\n",
      "Agent Action_dim100\n",
      "Env action_dim 100\n",
      " BETA 1\n",
      "Iteration0\n",
      "Iteration100\n",
      "Iteration200\n",
      "(226.14408752263398, 31262763.844984073, 'C:\\\\Users\\\\Harold\\\\Desktop\\\\ENAC-Semester-Project\\\\DIET_Controller\\\\custom_gym\\\\Eplus_simulation/results/2022_4_29/results_2022_4_29_18_4')\n"
     ]
    }
   ],
   "source": [
    "from utils import all_combinations_list\n",
    "\n",
    "num_episodes = 1\n",
    "num_iterations = 300\n",
    "\n",
    "for curr_agent_arguments in all_combinations_list(agent_arguments):\n",
    "\n",
    "    env = gym.make('EnergyPlusEnv-v0')\n",
    "    env.set_arguments(env_arguments)\n",
    "\n",
    "    agent = DQNAgent(env,dict_arguments=curr_agent_arguments)\n",
    "    total_cum_reward, total_cum_heat, results_path = agent.train(num_episodes=num_episodes, num_iterations=num_iterations ,log=False)\n",
    "\n"
   ]
  },
  {
   "cell_type": "code",
   "execution_count": 38,
   "metadata": {},
   "outputs": [
    {
     "ename": "KeyError",
     "evalue": "'num_iterations'",
     "output_type": "error",
     "traceback": [
      "\u001b[1;31m---------------------------------------------------------------------------\u001b[0m",
      "\u001b[1;31mKeyError\u001b[0m                                  Traceback (most recent call last)",
      "\u001b[1;32m~\\AppData\\Local\\Temp/ipykernel_13632/2260000872.py\u001b[0m in \u001b[0;36m<module>\u001b[1;34m\u001b[0m\n\u001b[0;32m     13\u001b[0m }\n\u001b[0;32m     14\u001b[0m \u001b[1;33m\u001b[0m\u001b[0m\n\u001b[1;32m---> 15\u001b[1;33m \u001b[0mpath_list\u001b[0m \u001b[1;33m=\u001b[0m \u001b[0msearch_paths\u001b[0m\u001b[1;33m(\u001b[0m\u001b[0msearching_directory\u001b[0m\u001b[1;33m,\u001b[0m\u001b[0mconditions\u001b[0m\u001b[1;33m)\u001b[0m\u001b[1;33m\u001b[0m\u001b[1;33m\u001b[0m\u001b[0m\n\u001b[0m",
      "\u001b[1;32mc:\\Users\\Harold\\Desktop\\ENAC-Semester-Project\\DIET_Controller\\utils.py\u001b[0m in \u001b[0;36msearch_paths\u001b[1;34m(searching_directory, conditions)\u001b[0m\n\u001b[0;32m     47\u001b[0m                 \u001b[1;32mfor\u001b[0m \u001b[0mk\u001b[0m \u001b[1;32min\u001b[0m \u001b[0mconditions\u001b[0m\u001b[1;33m:\u001b[0m\u001b[1;33m\u001b[0m\u001b[1;33m\u001b[0m\u001b[0m\n\u001b[0;32m     48\u001b[0m                     \u001b[1;32mif\u001b[0m \u001b[0mk\u001b[0m \u001b[1;33m!=\u001b[0m \u001b[1;34m\"pmv\"\u001b[0m\u001b[1;33m:\u001b[0m\u001b[1;33m\u001b[0m\u001b[1;33m\u001b[0m\u001b[0m\n\u001b[1;32m---> 49\u001b[1;33m                         \u001b[0ma\u001b[0m \u001b[1;33m=\u001b[0m \u001b[0mlog_dict\u001b[0m\u001b[1;33m[\u001b[0m\u001b[0mk\u001b[0m\u001b[1;33m]\u001b[0m\u001b[1;33m\u001b[0m\u001b[1;33m\u001b[0m\u001b[0m\n\u001b[0m\u001b[0;32m     50\u001b[0m                         \u001b[0mcomparator\u001b[0m\u001b[1;33m,\u001b[0m \u001b[0mb\u001b[0m \u001b[1;33m=\u001b[0m \u001b[0mconditions\u001b[0m\u001b[1;33m[\u001b[0m\u001b[0mk\u001b[0m\u001b[1;33m]\u001b[0m\u001b[1;33m\u001b[0m\u001b[1;33m\u001b[0m\u001b[0m\n\u001b[0;32m     51\u001b[0m                         \u001b[1;32mif\u001b[0m \u001b[1;32mnot\u001b[0m \u001b[0mcomparison\u001b[0m\u001b[1;33m(\u001b[0m\u001b[0ma\u001b[0m\u001b[1;33m,\u001b[0m\u001b[0mb\u001b[0m\u001b[1;33m,\u001b[0m\u001b[0mcomparator\u001b[0m\u001b[1;33m=\u001b[0m\u001b[0mcomparator\u001b[0m\u001b[1;33m)\u001b[0m\u001b[1;33m:\u001b[0m\u001b[1;33m\u001b[0m\u001b[1;33m\u001b[0m\u001b[0m\n",
      "\u001b[1;31mKeyError\u001b[0m: 'num_iterations'"
     ]
    }
   ],
   "source": [
    "# Example of how to use the function: \n",
    "\n",
    "from utils import search_paths\n",
    "\n",
    "searching_directory = r\"C:\\Users\\Harold\\Desktop\\ENAC-Semester-Project\\results\\2022_4_28\"\n",
    "\n",
    "conditions={\n",
    "    \"num_iterations\": [\"=\",21744] # to only have have trainings where the full simulation was used\n",
    "}\n",
    "\n",
    "conditions[\"pmv\"] = {\n",
    "        \"[-inf,-2]\": [\">\",0.2]\n",
    "}\n",
    "\n",
    "path_list = search_paths(searching_directory,conditions)"
   ]
  }
 ],
 "metadata": {
  "interpreter": {
   "hash": "e78a7ef29a5e3028f948eff69c34ba1d8ebd35a887497a02775c6aab840f6bc2"
  },
  "kernelspec": {
   "display_name": "Python 3.8.12 ('base')",
   "language": "python",
   "name": "python3"
  },
  "language_info": {
   "codemirror_mode": {
    "name": "ipython",
    "version": 3
   },
   "file_extension": ".py",
   "mimetype": "text/x-python",
   "name": "python",
   "nbconvert_exporter": "python",
   "pygments_lexer": "ipython3",
   "version": "3.8.12"
  },
  "orig_nbformat": 4
 },
 "nbformat": 4,
 "nbformat_minor": 2
}
