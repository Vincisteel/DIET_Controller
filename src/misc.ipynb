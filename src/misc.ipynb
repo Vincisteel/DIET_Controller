{
 "cells": [
  {
   "cell_type": "markdown",
   "metadata": {},
   "source": [
    "Modify jsons"
   ]
  },
  {
   "cell_type": "code",
   "execution_count": null,
   "metadata": {},
   "outputs": [],
   "source": [
    "## Modify jsons\n",
    "from pathlib import Path\n",
    "import json\n",
    "\n",
    "searching_directory = r\"C:\\Users\\Harold\\Desktop\\ENAC-Semester-Project\\DIET_Controller\\results\\DQN_Agent\"\n",
    "\n",
    "for path in Path(searching_directory).glob(\"**/*json\"):\n",
    "        \n",
    "        if os.path.getsize(path) > 0 and str(path).__contains__(\"env_params\"):\n",
    "                f = open(path,\"r\")\n",
    "                log_dict = json.load(f)\n",
    "                closed= False\n",
    "                if not(\"discrete_action_dim\" in log_dict.keys()) or (log_dict[\"action_dim\"] != 1):\n",
    "                    print(path)\n",
    "                    closed=True\n",
    "                    log_dict[\"discrete_action_dim\"] = log_dict[\"action_dim\"]\n",
    "                    log_dict[\"action_dim\"] = 1\n",
    "                    f.close()\n",
    "\n",
    "                    os.remove(path)\n",
    "                    with open(path, 'w') as f:\n",
    "                        f.write(json.dumps(log_dict,indent=True))\n",
    "\n",
    "                if not(closed):\n",
    "                    f.close()\n"
   ]
  }
 ],
 "metadata": {
  "language_info": {
   "name": "python"
  },
  "orig_nbformat": 4
 },
 "nbformat": 4,
 "nbformat_minor": 2
}
