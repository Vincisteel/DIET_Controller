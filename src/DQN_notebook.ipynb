{
 "cells": [
  {
   "cell_type": "code",
   "execution_count": 13,
   "metadata": {},
   "outputs": [
    {
     "name": "stdout",
     "output_type": "stream",
     "text": [
      "The autoreload extension is already loaded. To reload it, use:\n",
      "  %reload_ext autoreload\n"
     ]
    }
   ],
   "source": [
    "from typing import Dict, List, Tuple\n",
    "import torch\n",
    "import numpy as np\n",
    "import gym\n",
    "from plotly.subplots import make_subplots\n",
    "from agent.DQN_Agent import *\n",
    "from environment.DiscreteEnvironment import DiscreteSimpleEnvironment\n",
    "\n",
    "%load_ext autoreload\n",
    "%autoreload 2"
   ]
  },
  {
   "cell_type": "markdown",
   "metadata": {},
   "source": [
    "## Set environment and agent parameters"
   ]
  },
  {
   "cell_type": "code",
   "execution_count": 14,
   "metadata": {},
   "outputs": [],
   "source": [
    "env_arguments = {\n",
    "\"alpha\":1,\n",
    "\"beta\":1,\n",
    "\"min_temp\" : 16,\n",
    "\"max_temp\" : 21,\n",
    "\"action_dim\": 100,\n",
    "\"modelname\":'CELLS_v1.fmu',\n",
    "\"simulation_path\":  r'C:\\Users\\Harold\\Desktop\\ENAC-Semester-Project\\DIET_Controller\\EnergyPlus_simulations\\simple_simulation',\n",
    "\"param_list\": ['Tair', 'RH', 'Tmrt', 'Tout', 'Qheat', 'Occ'],\n",
    "\"days\": 151,  \n",
    "\"hours\": 24,  \n",
    "\"minutes\": 60,\n",
    "\"seconds\": 60,\n",
    "\"ep_timestep\": 6\n",
    "}\n",
    "\n",
    "env = DiscreteSimpleEnvironment(param_list=['Tair', 'RH', 'Tmrt', 'Tout', 'Qheat', 'Occ'],\n",
    "alpha=1,\n",
    "beta=1,\n",
    "min_temp=16,\n",
    "max_temp=21,\n",
    "discrete_action_dim=100,\n",
    "modelname='CELLS_v1.fmu',\n",
    "simulation_path=r'C:\\Users\\Harold\\Desktop\\ENAC-Semester-Project\\DIET_Controller\\EnergyPlus_simulations\\simple_simulation',\n",
    "days=151,\n",
    "hours=24,\n",
    "minutes=60,\n",
    "seconds=60,\n",
    "ep_timestep=6)\n",
    "\n",
    "agent_arguments = {\n",
    "\"memory_size\": [1000],\n",
    "\"batch_size\": [32],\n",
    "\"actor_update\":[2],\n",
    "\"target_update\": [100],\n",
    "\"epsilon_decay\": [1 / 20000],\n",
    "\"max_epsilon\": [1],\n",
    "\"min_epsilon\":  [0.0],\n",
    "\"lr\":[1e-3],\n",
    "\"gamma\": [0.99],\n",
    "\"inside_dim\": [128],\n",
    "\"num_hidden_layers\": [1],\n",
    "\"seed\": [778]\n",
    "}\n",
    "\n",
    "def cumulative_reward(data:pd.DataFrame) -> float:\n",
    "    return np.cumsum(np.array(data[\"Reward\"]))[-1]"
   ]
  },
  {
   "cell_type": "code",
   "execution_count": 11,
   "metadata": {},
   "outputs": [
    {
     "ename": "AttributeError",
     "evalue": "'NoneType' object has no attribute 'env'",
     "output_type": "error",
     "traceback": [
      "\u001b[1;31m---------------------------------------------------------------------------\u001b[0m",
      "\u001b[1;31mAttributeError\u001b[0m                            Traceback (most recent call last)",
      "\u001b[1;32mc:\\Users\\Harold\\Desktop\\ENAC-Semester-Project\\DIET_Controller\\src\\DQN_notebook.ipynb Cell 4'\u001b[0m in \u001b[0;36m<cell line: 4>\u001b[1;34m()\u001b[0m\n\u001b[0;32m      <a href='vscode-notebook-cell:/c%3A/Users/Harold/Desktop/ENAC-Semester-Project/DIET_Controller/src/DQN_notebook.ipynb#ch0000014?line=0'>1</a>\u001b[0m \u001b[39mdef\u001b[39;00m \u001b[39mcreate_agent\u001b[39m(agent):\n\u001b[0;32m      <a href='vscode-notebook-cell:/c%3A/Users/Harold/Desktop/ENAC-Semester-Project/DIET_Controller/src/DQN_notebook.ipynb#ch0000014?line=1'>2</a>\u001b[0m     agent(env)\n\u001b[1;32m----> <a href='vscode-notebook-cell:/c%3A/Users/Harold/Desktop/ENAC-Semester-Project/DIET_Controller/src/DQN_notebook.ipynb#ch0000014?line=3'>4</a>\u001b[0m create_agent(DQNAgent)\u001b[39m.\u001b[39;49menv\n",
      "\u001b[1;31mAttributeError\u001b[0m: 'NoneType' object has no attribute 'env'"
     ]
    }
   ],
   "source": []
  },
  {
   "cell_type": "markdown",
   "metadata": {},
   "source": []
  },
  {
   "cell_type": "code",
   "execution_count": 4,
   "metadata": {},
   "outputs": [
    {
     "name": "stdout",
     "output_type": "stream",
     "text": [
      "SELECTED ENV ACTION 16.404040404040405\n",
      "Iteration0\n",
      "SELECTED ENV ACTION 18.828282828282827\n",
      "Iteration1000\n",
      "SELECTED ENV ACTION 20.747474747474747\n",
      "Iteration2000\n",
      "SELECTED ENV ACTION 18.67676767676768\n",
      "Iteration3000\n",
      "SELECTED ENV ACTION 18.97979797979798\n",
      "Iteration4000\n"
     ]
    },
    {
     "data": {
      "text/plain": [
       "'C:\\\\Users\\\\Harold\\\\Desktop\\\\ENAC-Semester-Project\\\\DIET_Controller\\\\logs\\\\simple_simulation/results/DQN_Agent/2022_6_9/results_2022_6_9_13_30'"
      ]
     },
     "execution_count": 4,
     "metadata": {},
     "output_type": "execute_result"
    },
    {
     "data": {
      "image/png": "[encoded data removed]",
      "text/plain": [
       "<Figure size 1080x504 with 1 Axes>"
      ]
     },
     "metadata": {
      "needs_background": "light"
     },
     "output_type": "display_data"
    }
   ],
   "source": [
    "from utils import all_combinations_list\n",
    "\n",
    "best_reward = -np.inf\n",
    "best_path = \"\"\n",
    "\n",
    "logging_path = r\"C:\\Users\\Harold\\Desktop\\ENAC-Semester-Project\\DIET_Controller\\logs\\simple_simulation\"\n",
    "\n",
    "for curr_agent_arguments in all_combinations_list(agent_arguments):\n",
    "\n",
    "    agent = DQNAgent(env).from_dict(dict_arguments=curr_agent_arguments)\n",
    "    results_path, summary_df = agent.train(logging_path= logging_path, num_episodes=1, num_iterations=5000 ,log=True)\n",
    "    total_cum_reward = cumulative_reward(summary_df)\n",
    "    if total_cum_reward > best_reward:\n",
    "        best_reward = total_cum_reward\n",
    "        best_path = results_path\n",
    "  \n",
    "\n",
    "best_path\n",
    "\n"
   ]
  },
  {
   "cell_type": "code",
   "execution_count": 11,
   "metadata": {},
   "outputs": [
    {
     "data": {
      "text/plain": [
       "8"
      ]
     },
     "execution_count": 11,
     "metadata": {},
     "output_type": "execute_result"
    }
   ],
   "source": [
    "l = [[{'secondary_y': False}], [{'secondary_y': True}], [{'secondary_y': False}], [{'secondary_y': True}], [{'secondary_y': True}], [{'secondary_y': False}], [{'secondary_y': False}], [{'secondary_y': False}]]\n",
    "\n",
    "len(l)"
   ]
  },
  {
   "cell_type": "code",
   "execution_count": 4,
   "metadata": {},
   "outputs": [
    {
     "data": {
      "text/plain": [
       "{WindowsPath('C:/Users/Harold/Desktop/ENAC-Semester-Project/DIET_Controller/results/2022_4_30/results_2022_4_30_14_54/experiments_csv/experiments_results_1.csv'): 0.5350667456999525,\n",
       " WindowsPath('C:/Users/Harold/Desktop/ENAC-Semester-Project/DIET_Controller/results/2022_4_30/results_2022_4_30_14_54/experiments_csv/experiments_results_2.csv'): 0.5619388214374257,\n",
       " WindowsPath('C:/Users/Harold/Desktop/ENAC-Semester-Project/DIET_Controller/results/2022_4_30/results_2022_4_30_14_54/experiments_csv/experiments_results_summary.csv'): 0.560152310902544}"
      ]
     },
     "execution_count": 4,
     "metadata": {},
     "output_type": "execute_result"
    }
   ],
   "source": [
    "from utils import assess_performance\n",
    "\n",
    "assess_performance(r'C:/Users/Harold/Desktop/ENAC-Semester-Project/DIET_Controller/results/2022_4_30/results_2022_4_30_14_54/')"
   ]
  },
  {
   "cell_type": "code",
   "execution_count": 15,
   "metadata": {},
   "outputs": [
    {
     "data": {
      "text/plain": [
       "(array([WindowsPath('C:/Users/Harold/Desktop/ENAC-Semester-Project/DIET_Controller/results/2022_4_30/results_2022_4_30_16_20/env_params_2022_4_30_16_20.json'),\n",
       "        WindowsPath('C:/Users/Harold/Desktop/ENAC-Semester-Project/DIET_Controller/results/2022_4_30/results_2022_4_30_15_39/env_params_2022_4_30_15_39.json'),\n",
       "        WindowsPath('C:/Users/Harold/Desktop/ENAC-Semester-Project/DIET_Controller/results/2022_4_30/results_2022_4_30_16_10/env_params_2022_4_30_16_10.json'),\n",
       "        WindowsPath('C:/Users/Harold/Desktop/ENAC-Semester-Project/DIET_Controller/results/2022_4_30/results_2022_4_30_15_50/env_params_2022_4_30_15_50.json'),\n",
       "        WindowsPath('C:/Users/Harold/Desktop/ENAC-Semester-Project/DIET_Controller/results/2022_4_30/results_2022_4_30_22_49/env_params_2022_4_30_22_49.json'),\n",
       "        WindowsPath('C:/Users/Harold/Desktop/ENAC-Semester-Project/DIET_Controller/results/2022_4_30/results_2022_4_30_22_31/env_params_2022_4_30_22_31.json'),\n",
       "        WindowsPath('C:/Users/Harold/Desktop/ENAC-Semester-Project/DIET_Controller/results/2022_4_30/results_2022_4_30_22_18/env_params_2022_4_30_22_18.json'),\n",
       "        WindowsPath('C:/Users/Harold/Desktop/ENAC-Semester-Project/DIET_Controller/results/2022_5_2/results_2022_5_2_21_56/env_params_2022_5_2_21_56.json'),\n",
       "        WindowsPath('C:/Users/Harold/Desktop/ENAC-Semester-Project/DIET_Controller/results/2022_4_30/results_2022_4_30_22_1/env_params_2022_4_30_22_1.json'),\n",
       "        WindowsPath('C:/Users/Harold/Desktop/ENAC-Semester-Project/DIET_Controller/results/2022_5_2/results_2022_5_2_21_42/env_params_2022_5_2_21_42.json')],\n",
       "       dtype=object),\n",
       " array([WindowsPath('C:/Users/Harold/Desktop/ENAC-Semester-Project/DIET_Controller/results/2022_5_2/results_2022_5_2_21_42/env_params_2022_5_2_21_42.json'),\n",
       "        WindowsPath('C:/Users/Harold/Desktop/ENAC-Semester-Project/DIET_Controller/results/2022_5_2/results_2022_5_2_21_56/env_params_2022_5_2_21_56.json'),\n",
       "        WindowsPath('C:/Users/Harold/Desktop/ENAC-Semester-Project/DIET_Controller/results/2022_4_30/results_2022_4_30_22_1/env_params_2022_4_30_22_1.json'),\n",
       "        WindowsPath('C:/Users/Harold/Desktop/ENAC-Semester-Project/DIET_Controller/results/2022_4_30/results_2022_4_30_22_31/env_params_2022_4_30_22_31.json'),\n",
       "        WindowsPath('C:/Users/Harold/Desktop/ENAC-Semester-Project/DIET_Controller/results/2022_4_30/results_2022_4_30_22_18/env_params_2022_4_30_22_18.json'),\n",
       "        WindowsPath('C:/Users/Harold/Desktop/ENAC-Semester-Project/DIET_Controller/results/2022_4_30/results_2022_4_30_15_50/env_params_2022_4_30_15_50.json'),\n",
       "        WindowsPath('C:/Users/Harold/Desktop/ENAC-Semester-Project/DIET_Controller/results/2022_4_30/results_2022_4_30_22_49/env_params_2022_4_30_22_49.json'),\n",
       "        WindowsPath('C:/Users/Harold/Desktop/ENAC-Semester-Project/DIET_Controller/results/2022_4_30/results_2022_4_30_15_39/env_params_2022_4_30_15_39.json'),\n",
       "        WindowsPath('C:/Users/Harold/Desktop/ENAC-Semester-Project/DIET_Controller/results/2022_4_30/results_2022_4_30_16_10/env_params_2022_4_30_16_10.json'),\n",
       "        WindowsPath('C:/Users/Harold/Desktop/ENAC-Semester-Project/DIET_Controller/results/2022_4_30/results_2022_4_30_16_20/env_params_2022_4_30_16_20.json')],\n",
       "       dtype=object))"
      ]
     },
     "execution_count": 15,
     "metadata": {},
     "output_type": "execute_result"
    }
   ],
   "source": [
    "# Example of how to use the function: \n",
    "\n",
    "from utils import search_paths\n",
    "\n",
    "searching_directory = r\"C:\\Users\\Harold\\Desktop\\ENAC-Semester-Project\\DIET_Controller\"\n",
    "\n",
    "conditions={\n",
    "    \"is_test\":[\"=\",False],\n",
    "    \"num_iterations\": [\"=\",21744], # to only have have trainings where the full simulation was used\n",
    "    \"num_episodes\":[\"=\",3],\n",
    "    \"alpha\":[\"=\",1],\n",
    "    \"beta\":[\"=\",1],\n",
    "    \"num_hidden_layers\":[\">\",2]\n",
    "}\n",
    "\n",
    "path_list, best_reward_path, best_heat_path = search_paths(searching_directory,conditions=conditions, top_k=10)\n",
    "\n",
    "best_reward_path, best_heat_path"
   ]
  },
  {
   "cell_type": "code",
   "execution_count": 2,
   "metadata": {},
   "outputs": [],
   "source": [
    "import pandas as pd"
   ]
  },
  {
   "cell_type": "code",
   "execution_count": 11,
   "metadata": {},
   "outputs": [],
   "source": [
    "d = True\n",
    "\n",
    "if(d == False):\n",
    "    print(\"bite\")"
   ]
  },
  {
   "cell_type": "code",
   "execution_count": 8,
   "metadata": {},
   "outputs": [],
   "source": [
    "df = pd.read_csv(r\"C:\\Users\\Harold\\Desktop\\ENAC-Semester-Project\\DIET_Controller\\results\\2022_5_10\\results_2022_5_10_15_0\\experiments_csv\\experiments_results_1.csv\")"
   ]
  },
  {
   "cell_type": "code",
   "execution_count": 37,
   "metadata": {},
   "outputs": [],
   "source": [
    "from pathlib import Path\n",
    "import json\n",
    "\n",
    "searching_directory = r\"C:\\Users\\Harold\\Desktop\\ENAC-Semester-Project\\DIET_Controller\\results\\DQN_Agent\"\n",
    "\n",
    "for path in Path(searching_directory).glob(\"**/*json\"):\n",
    "        \n",
    "        if os.path.getsize(path) > 0 and str(path).__contains__(\"env_params\"):\n",
    "                f = open(path,\"r\")\n",
    "                log_dict = json.load(f)\n",
    "                closed= False\n",
    "                if not(\"discrete_action_dim\" in log_dict.keys()) or (log_dict[\"action_dim\"] != 1):\n",
    "                    print(path)\n",
    "                    closed=True\n",
    "                    log_dict[\"discrete_action_dim\"] = log_dict[\"action_dim\"]\n",
    "                    log_dict[\"action_dim\"] = 1\n",
    "                    f.close()\n",
    "\n",
    "                    os.remove(path)\n",
    "                    with open(path, 'w') as f:\n",
    "                        f.write(json.dumps(log_dict,indent=True))\n",
    "\n",
    "                if not(closed):\n",
    "                    f.close()\n"
   ]
  },
  {
   "cell_type": "code",
   "execution_count": 19,
   "metadata": {},
   "outputs": [
    {
     "data": {
      "text/plain": [
       "{'parameter': ('seed', [775, 776]),\n",
       " 'utility_function': 'cumulative_reward',\n",
       " 'utilities_results': array([23609.66682173, 23638.3857658 ]),\n",
       " 'results_path_list': ['C:\\\\Users\\\\Harold\\\\Desktop\\\\ENAC-Semester-Project\\\\DIET_Controller\\\\logs\\\\simple_simulation/results/DQN_Agent/2022_6_9/results_2022_6_9_23_43',\n",
       "  'C:\\\\Users\\\\Harold\\\\Desktop\\\\ENAC-Semester-Project\\\\DIET_Controller\\\\logs\\\\simple_simulation/results/DQN_Agent/2022_6_9/results_2022_6_9_23_44'],\n",
       " 'IQR': 14.359472035273939,\n",
       " 'CVaR': 23609.666821732822}"
      ]
     },
     "execution_count": 19,
     "metadata": {},
     "output_type": "execute_result"
    }
   ],
   "source": [
    "results_dict"
   ]
  },
  {
   "cell_type": "markdown",
   "metadata": {},
   "source": [
    "# Testing performance pipeline"
   ]
  },
  {
   "cell_type": "code",
   "execution_count": 15,
   "metadata": {},
   "outputs": [
    {
     "name": "stdout",
     "output_type": "stream",
     "text": [
      "Iteration0\n",
      "Iteration1000\n",
      "Iteration2000\n",
      "Iteration3000\n",
      "Iteration4000\n",
      "Iteration5000\n",
      "Iteration6000\n",
      "Iteration7000\n",
      "Iteration8000\n",
      "Iteration9000\n",
      "Iteration10000\n",
      "Iteration11000\n",
      "Iteration12000\n",
      "Iteration13000\n",
      "Iteration14000\n",
      "Iteration15000\n",
      "Iteration16000\n",
      "Iteration17000\n",
      "Iteration18000\n",
      "Iteration19000\n",
      "Iteration20000\n",
      "Iteration21000\n",
      "Iteration0\n",
      "Iteration1000\n",
      "Iteration2000\n",
      "Iteration3000\n",
      "Iteration4000\n",
      "Iteration5000\n",
      "Iteration6000\n",
      "Iteration7000\n",
      "Iteration8000\n",
      "Iteration9000\n",
      "Iteration10000\n",
      "Iteration11000\n",
      "Iteration12000\n",
      "Iteration13000\n",
      "Iteration14000\n",
      "Iteration15000\n",
      "Iteration16000\n",
      "Iteration17000\n",
      "Iteration18000\n",
      "Iteration19000\n",
      "Iteration20000\n",
      "Iteration21000\n"
     ]
    },
    {
     "ename": "TypeError",
     "evalue": "Object of type ndarray is not JSON serializable",
     "output_type": "error",
     "traceback": [
      "\u001b[1;31m---------------------------------------------------------------------------\u001b[0m",
      "\u001b[1;31mTypeError\u001b[0m                                 Traceback (most recent call last)",
      "\u001b[1;32mc:\\Users\\Harold\\Desktop\\ENAC-Semester-Project\\DIET_Controller\\src\\DQN_notebook.ipynb Cell 15'\u001b[0m in \u001b[0;36m<cell line: 52>\u001b[1;34m()\u001b[0m\n\u001b[0;32m     <a href='vscode-notebook-cell:/c%3A/Users/Harold/Desktop/ENAC-Semester-Project/DIET_Controller/src/DQN_notebook.ipynb#ch0000013?line=41'>42</a>\u001b[0m dispersion,risk, results_dict \u001b[39m=\u001b[39m Performance\u001b[39m.\u001b[39macross_runs(agent\u001b[39m=\u001b[39magent, agent_arguments\u001b[39m=\u001b[39magent_arguments, parameter\u001b[39m=\u001b[39mparameter,\n\u001b[0;32m     <a href='vscode-notebook-cell:/c%3A/Users/Harold/Desktop/ENAC-Semester-Project/DIET_Controller/src/DQN_notebook.ipynb#ch0000013?line=42'>43</a>\u001b[0m     logging_path\u001b[39m=\u001b[39mlogging_path, num_episodes\u001b[39m=\u001b[39mnum_episodes, num_iterations\u001b[39m=\u001b[39mnum_iterations, utility_function\u001b[39m=\u001b[39mutility_function,alpha\u001b[39m=\u001b[39m\u001b[39m0.05\u001b[39m)\n\u001b[0;32m     <a href='vscode-notebook-cell:/c%3A/Users/Harold/Desktop/ENAC-Semester-Project/DIET_Controller/src/DQN_notebook.ipynb#ch0000013?line=44'>45</a>\u001b[0m logger \u001b[39m=\u001b[39m SimpleLogger(\n\u001b[0;32m     <a href='vscode-notebook-cell:/c%3A/Users/Harold/Desktop/ENAC-Semester-Project/DIET_Controller/src/DQN_notebook.ipynb#ch0000013?line=45'>46</a>\u001b[0m         logging_path\u001b[39m=\u001b[39mlogging_path,\n\u001b[0;32m     <a href='vscode-notebook-cell:/c%3A/Users/Harold/Desktop/ENAC-Semester-Project/DIET_Controller/src/DQN_notebook.ipynb#ch0000013?line=46'>47</a>\u001b[0m         agent_name\u001b[39m=\u001b[39m\u001b[39m\"\u001b[39m\u001b[39mDQN_Agent\u001b[39m\u001b[39m\"\u001b[39m,\n\u001b[0;32m     <a href='vscode-notebook-cell:/c%3A/Users/Harold/Desktop/ENAC-Semester-Project/DIET_Controller/src/DQN_notebook.ipynb#ch0000013?line=47'>48</a>\u001b[0m         num_episodes\u001b[39m=\u001b[39mnum_episodes,\n\u001b[0;32m     <a href='vscode-notebook-cell:/c%3A/Users/Harold/Desktop/ENAC-Semester-Project/DIET_Controller/src/DQN_notebook.ipynb#ch0000013?line=48'>49</a>\u001b[0m         num_iterations\u001b[39m=\u001b[39mnum_iterations,\n\u001b[0;32m     <a href='vscode-notebook-cell:/c%3A/Users/Harold/Desktop/ENAC-Semester-Project/DIET_Controller/src/DQN_notebook.ipynb#ch0000013?line=49'>50</a>\u001b[0m     )\n\u001b[1;32m---> <a href='vscode-notebook-cell:/c%3A/Users/Harold/Desktop/ENAC-Semester-Project/DIET_Controller/src/DQN_notebook.ipynb#ch0000013?line=51'>52</a>\u001b[0m logger\u001b[39m.\u001b[39;49mlog_performance_pipeline(results_dict)\n",
      "File \u001b[1;32mc:\\Users\\Harold\\Desktop\\ENAC-Semester-Project\\DIET_Controller\\src\\logger\\Logger.py:63\u001b[0m, in \u001b[0;36mLogger.log_performance_pipeline\u001b[1;34m(self, results)\u001b[0m\n\u001b[0;32m     <a href='file:///c%3A/Users/Harold/Desktop/ENAC-Semester-Project/DIET_Controller/src/logger/Logger.py?line=59'>60</a>\u001b[0m filename \u001b[39m=\u001b[39m \u001b[39mf\u001b[39m\u001b[39m\"\u001b[39m\u001b[39mperformance_results_\u001b[39m\u001b[39m{\u001b[39;00m\u001b[39mself\u001b[39m\u001b[39m.\u001b[39mtime\u001b[39m}\u001b[39;00m\u001b[39m\"\u001b[39m\n\u001b[0;32m     <a href='file:///c%3A/Users/Harold/Desktop/ENAC-Semester-Project/DIET_Controller/src/logger/Logger.py?line=61'>62</a>\u001b[0m \u001b[39mwith\u001b[39;00m \u001b[39mopen\u001b[39m(\u001b[39mf\u001b[39m\u001b[39m\"\u001b[39m\u001b[39m{\u001b[39;00m\u001b[39mself\u001b[39m\u001b[39m.\u001b[39mPERFORMANCE_PATH\u001b[39m}\u001b[39;00m\u001b[39m\\\u001b[39m\u001b[39m{\u001b[39;00mfilename\u001b[39m}\u001b[39;00m\u001b[39m\"\u001b[39m, \u001b[39m\"\u001b[39m\u001b[39mw\u001b[39m\u001b[39m\"\u001b[39m) \u001b[39mas\u001b[39;00m f:\n\u001b[1;32m---> <a href='file:///c%3A/Users/Harold/Desktop/ENAC-Semester-Project/DIET_Controller/src/logger/Logger.py?line=62'>63</a>\u001b[0m     f\u001b[39m.\u001b[39mwrite(json\u001b[39m.\u001b[39;49mdumps(results, indent\u001b[39m=\u001b[39;49m\u001b[39mTrue\u001b[39;49;00m))\n",
      "File \u001b[1;32mc:\\Users\\Harold\\anaconda3\\lib\\json\\__init__.py:234\u001b[0m, in \u001b[0;36mdumps\u001b[1;34m(obj, skipkeys, ensure_ascii, check_circular, allow_nan, cls, indent, separators, default, sort_keys, **kw)\u001b[0m\n\u001b[0;32m    <a href='file:///c%3A/Users/Harold/anaconda3/lib/json/__init__.py?line=231'>232</a>\u001b[0m \u001b[39mif\u001b[39;00m \u001b[39mcls\u001b[39m \u001b[39mis\u001b[39;00m \u001b[39mNone\u001b[39;00m:\n\u001b[0;32m    <a href='file:///c%3A/Users/Harold/anaconda3/lib/json/__init__.py?line=232'>233</a>\u001b[0m     \u001b[39mcls\u001b[39m \u001b[39m=\u001b[39m JSONEncoder\n\u001b[1;32m--> <a href='file:///c%3A/Users/Harold/anaconda3/lib/json/__init__.py?line=233'>234</a>\u001b[0m \u001b[39mreturn\u001b[39;00m \u001b[39mcls\u001b[39;49m(\n\u001b[0;32m    <a href='file:///c%3A/Users/Harold/anaconda3/lib/json/__init__.py?line=234'>235</a>\u001b[0m     skipkeys\u001b[39m=\u001b[39;49mskipkeys, ensure_ascii\u001b[39m=\u001b[39;49mensure_ascii,\n\u001b[0;32m    <a href='file:///c%3A/Users/Harold/anaconda3/lib/json/__init__.py?line=235'>236</a>\u001b[0m     check_circular\u001b[39m=\u001b[39;49mcheck_circular, allow_nan\u001b[39m=\u001b[39;49mallow_nan, indent\u001b[39m=\u001b[39;49mindent,\n\u001b[0;32m    <a href='file:///c%3A/Users/Harold/anaconda3/lib/json/__init__.py?line=236'>237</a>\u001b[0m     separators\u001b[39m=\u001b[39;49mseparators, default\u001b[39m=\u001b[39;49mdefault, sort_keys\u001b[39m=\u001b[39;49msort_keys,\n\u001b[0;32m    <a href='file:///c%3A/Users/Harold/anaconda3/lib/json/__init__.py?line=237'>238</a>\u001b[0m     \u001b[39m*\u001b[39;49m\u001b[39m*\u001b[39;49mkw)\u001b[39m.\u001b[39;49mencode(obj)\n",
      "File \u001b[1;32mc:\\Users\\Harold\\anaconda3\\lib\\json\\encoder.py:201\u001b[0m, in \u001b[0;36mJSONEncoder.encode\u001b[1;34m(self, o)\u001b[0m\n\u001b[0;32m    <a href='file:///c%3A/Users/Harold/anaconda3/lib/json/encoder.py?line=198'>199</a>\u001b[0m chunks \u001b[39m=\u001b[39m \u001b[39mself\u001b[39m\u001b[39m.\u001b[39miterencode(o, _one_shot\u001b[39m=\u001b[39m\u001b[39mTrue\u001b[39;00m)\n\u001b[0;32m    <a href='file:///c%3A/Users/Harold/anaconda3/lib/json/encoder.py?line=199'>200</a>\u001b[0m \u001b[39mif\u001b[39;00m \u001b[39mnot\u001b[39;00m \u001b[39misinstance\u001b[39m(chunks, (\u001b[39mlist\u001b[39m, \u001b[39mtuple\u001b[39m)):\n\u001b[1;32m--> <a href='file:///c%3A/Users/Harold/anaconda3/lib/json/encoder.py?line=200'>201</a>\u001b[0m     chunks \u001b[39m=\u001b[39m \u001b[39mlist\u001b[39;49m(chunks)\n\u001b[0;32m    <a href='file:///c%3A/Users/Harold/anaconda3/lib/json/encoder.py?line=201'>202</a>\u001b[0m \u001b[39mreturn\u001b[39;00m \u001b[39m'\u001b[39m\u001b[39m'\u001b[39m\u001b[39m.\u001b[39mjoin(chunks)\n",
      "File \u001b[1;32mc:\\Users\\Harold\\anaconda3\\lib\\json\\encoder.py:431\u001b[0m, in \u001b[0;36m_make_iterencode.<locals>._iterencode\u001b[1;34m(o, _current_indent_level)\u001b[0m\n\u001b[0;32m    <a href='file:///c%3A/Users/Harold/anaconda3/lib/json/encoder.py?line=428'>429</a>\u001b[0m     \u001b[39myield from\u001b[39;00m _iterencode_list(o, _current_indent_level)\n\u001b[0;32m    <a href='file:///c%3A/Users/Harold/anaconda3/lib/json/encoder.py?line=429'>430</a>\u001b[0m \u001b[39melif\u001b[39;00m \u001b[39misinstance\u001b[39m(o, \u001b[39mdict\u001b[39m):\n\u001b[1;32m--> <a href='file:///c%3A/Users/Harold/anaconda3/lib/json/encoder.py?line=430'>431</a>\u001b[0m     \u001b[39myield from\u001b[39;00m _iterencode_dict(o, _current_indent_level)\n\u001b[0;32m    <a href='file:///c%3A/Users/Harold/anaconda3/lib/json/encoder.py?line=431'>432</a>\u001b[0m \u001b[39melse\u001b[39;00m:\n\u001b[0;32m    <a href='file:///c%3A/Users/Harold/anaconda3/lib/json/encoder.py?line=432'>433</a>\u001b[0m     \u001b[39mif\u001b[39;00m markers \u001b[39mis\u001b[39;00m \u001b[39mnot\u001b[39;00m \u001b[39mNone\u001b[39;00m:\n",
      "File \u001b[1;32mc:\\Users\\Harold\\anaconda3\\lib\\json\\encoder.py:405\u001b[0m, in \u001b[0;36m_make_iterencode.<locals>._iterencode_dict\u001b[1;34m(dct, _current_indent_level)\u001b[0m\n\u001b[0;32m    <a href='file:///c%3A/Users/Harold/anaconda3/lib/json/encoder.py?line=402'>403</a>\u001b[0m         \u001b[39melse\u001b[39;00m:\n\u001b[0;32m    <a href='file:///c%3A/Users/Harold/anaconda3/lib/json/encoder.py?line=403'>404</a>\u001b[0m             chunks \u001b[39m=\u001b[39m _iterencode(value, _current_indent_level)\n\u001b[1;32m--> <a href='file:///c%3A/Users/Harold/anaconda3/lib/json/encoder.py?line=404'>405</a>\u001b[0m         \u001b[39myield from\u001b[39;00m chunks\n\u001b[0;32m    <a href='file:///c%3A/Users/Harold/anaconda3/lib/json/encoder.py?line=405'>406</a>\u001b[0m \u001b[39mif\u001b[39;00m newline_indent \u001b[39mis\u001b[39;00m \u001b[39mnot\u001b[39;00m \u001b[39mNone\u001b[39;00m:\n\u001b[0;32m    <a href='file:///c%3A/Users/Harold/anaconda3/lib/json/encoder.py?line=406'>407</a>\u001b[0m     _current_indent_level \u001b[39m-\u001b[39m\u001b[39m=\u001b[39m \u001b[39m1\u001b[39m\n",
      "File \u001b[1;32mc:\\Users\\Harold\\anaconda3\\lib\\json\\encoder.py:438\u001b[0m, in \u001b[0;36m_make_iterencode.<locals>._iterencode\u001b[1;34m(o, _current_indent_level)\u001b[0m\n\u001b[0;32m    <a href='file:///c%3A/Users/Harold/anaconda3/lib/json/encoder.py?line=435'>436</a>\u001b[0m         \u001b[39mraise\u001b[39;00m \u001b[39mValueError\u001b[39;00m(\u001b[39m\"\u001b[39m\u001b[39mCircular reference detected\u001b[39m\u001b[39m\"\u001b[39m)\n\u001b[0;32m    <a href='file:///c%3A/Users/Harold/anaconda3/lib/json/encoder.py?line=436'>437</a>\u001b[0m     markers[markerid] \u001b[39m=\u001b[39m o\n\u001b[1;32m--> <a href='file:///c%3A/Users/Harold/anaconda3/lib/json/encoder.py?line=437'>438</a>\u001b[0m o \u001b[39m=\u001b[39m _default(o)\n\u001b[0;32m    <a href='file:///c%3A/Users/Harold/anaconda3/lib/json/encoder.py?line=438'>439</a>\u001b[0m \u001b[39myield from\u001b[39;00m _iterencode(o, _current_indent_level)\n\u001b[0;32m    <a href='file:///c%3A/Users/Harold/anaconda3/lib/json/encoder.py?line=439'>440</a>\u001b[0m \u001b[39mif\u001b[39;00m markers \u001b[39mis\u001b[39;00m \u001b[39mnot\u001b[39;00m \u001b[39mNone\u001b[39;00m:\n",
      "File \u001b[1;32mc:\\Users\\Harold\\anaconda3\\lib\\json\\encoder.py:179\u001b[0m, in \u001b[0;36mJSONEncoder.default\u001b[1;34m(self, o)\u001b[0m\n\u001b[0;32m    <a href='file:///c%3A/Users/Harold/anaconda3/lib/json/encoder.py?line=159'>160</a>\u001b[0m \u001b[39mdef\u001b[39;00m \u001b[39mdefault\u001b[39m(\u001b[39mself\u001b[39m, o):\n\u001b[0;32m    <a href='file:///c%3A/Users/Harold/anaconda3/lib/json/encoder.py?line=160'>161</a>\u001b[0m     \u001b[39m\"\"\"Implement this method in a subclass such that it returns\u001b[39;00m\n\u001b[0;32m    <a href='file:///c%3A/Users/Harold/anaconda3/lib/json/encoder.py?line=161'>162</a>\u001b[0m \u001b[39m    a serializable object for ``o``, or calls the base implementation\u001b[39;00m\n\u001b[0;32m    <a href='file:///c%3A/Users/Harold/anaconda3/lib/json/encoder.py?line=162'>163</a>\u001b[0m \u001b[39m    (to raise a ``TypeError``).\u001b[39;00m\n\u001b[1;32m   (...)\u001b[0m\n\u001b[0;32m    <a href='file:///c%3A/Users/Harold/anaconda3/lib/json/encoder.py?line=176'>177</a>\u001b[0m \n\u001b[0;32m    <a href='file:///c%3A/Users/Harold/anaconda3/lib/json/encoder.py?line=177'>178</a>\u001b[0m \u001b[39m    \"\"\"\u001b[39;00m\n\u001b[1;32m--> <a href='file:///c%3A/Users/Harold/anaconda3/lib/json/encoder.py?line=178'>179</a>\u001b[0m     \u001b[39mraise\u001b[39;00m \u001b[39mTypeError\u001b[39;00m(\u001b[39mf\u001b[39m\u001b[39m'\u001b[39m\u001b[39mObject of type \u001b[39m\u001b[39m{\u001b[39;00mo\u001b[39m.\u001b[39m\u001b[39m__class__\u001b[39m\u001b[39m.\u001b[39m\u001b[39m__name__\u001b[39m\u001b[39m}\u001b[39;00m\u001b[39m \u001b[39m\u001b[39m'\u001b[39m\n\u001b[0;32m    <a href='file:///c%3A/Users/Harold/anaconda3/lib/json/encoder.py?line=179'>180</a>\u001b[0m                     \u001b[39mf\u001b[39m\u001b[39m'\u001b[39m\u001b[39mis not JSON serializable\u001b[39m\u001b[39m'\u001b[39m)\n",
      "\u001b[1;31mTypeError\u001b[0m: Object of type ndarray is not JSON serializable"
     ]
    },
    {
     "data": {
      "image/png": "[encoded data removed]",
      "text/plain": [
       "<Figure size 1080x504 with 1 Axes>"
      ]
     },
     "metadata": {
      "needs_background": "light"
     },
     "output_type": "display_data"
    },
    {
     "data": {
      "image/png": "[encoded data removed]",
      "text/plain": [
       "<Figure size 1080x504 with 1 Axes>"
      ]
     },
     "metadata": {
      "needs_background": "light"
     },
     "output_type": "display_data"
    }
   ],
   "source": [
    "import Performance\n",
    "\n",
    "env = DiscreteSimpleEnvironment(param_list=['Tair', 'RH', 'Tmrt', 'Tout', 'Qheat', 'Occ'],\n",
    "alpha=1,\n",
    "beta=1,\n",
    "min_temp=16,\n",
    "max_temp=21,\n",
    "discrete_action_dim=100,\n",
    "modelname='CELLS_v1.fmu',\n",
    "simulation_path=r'C:\\Users\\Harold\\Desktop\\ENAC-Semester-Project\\DIET_Controller\\EnergyPlus_simulations\\simple_simulation',\n",
    "days=151,\n",
    "hours=24,\n",
    "minutes=60,\n",
    "seconds=60,\n",
    "ep_timestep=6)\n",
    "\n",
    "agent_arguments = {\n",
    "\"memory_size\": [1000],\n",
    "\"batch_size\": [32],\n",
    "\"target_update\": [100],\n",
    "\"epsilon_decay\": [1 / 20000],\n",
    "\"max_epsilon\": [1],\n",
    "\"min_epsilon\":  [0.0],\n",
    "\"gamma\": [0.99],\n",
    "\"inside_dim\": [128],\n",
    "\"num_hidden_layers\": [1],\n",
    "\"seed\": [778]\n",
    "}\n",
    "\n",
    "\n",
    "parameter = (\"seed\", [775,776])\n",
    "\n",
    "logging_path = r\"C:\\Users\\Harold\\Desktop\\ENAC-Semester-Project\\DIET_Controller\\logs\\simple_simulation\"\n",
    "\n",
    "utility_function = Performance.cumulative_reward\n",
    "\n",
    "agent = DQNAgent(env=env)\n",
    "num_episodes = 1\n",
    "num_iterations = env.numsteps\n",
    "agent_name = \"DQN_Agent\"\n",
    "\n",
    "dispersion,risk, results_dict = Performance.across_runs(agent=agent, agent_arguments=agent_arguments, parameter=parameter,\n",
    "    logging_path=logging_path, num_episodes=num_episodes, num_iterations=num_iterations, utility_function=utility_function,alpha=0.05)\n",
    "\n",
    "logger = SimpleLogger(\n",
    "        logging_path=logging_path,\n",
    "        agent_name=\"DQN_Agent\",\n",
    "        num_episodes=num_episodes,\n",
    "        num_iterations=num_iterations,\n",
    "    )\n",
    "\n",
    "logger.log_performance_pipeline(results_dict)\n",
    "\n",
    "\n"
   ]
  }
 ],
 "metadata": {
  "interpreter": {
   "hash": "6b6b609373cab7b4f35f89e556fae7285533d0878866e99b2da014c0f4ef9f7d"
  },
  "kernelspec": {
   "display_name": "Python 3.8.12 ('base')",
   "language": "python",
   "name": "python3"
  },
  "language_info": {
   "codemirror_mode": {
    "name": "ipython",
    "version": 3
   },
   "file_extension": ".py",
   "mimetype": "text/x-python",
   "name": "python",
   "nbconvert_exporter": "python",
   "pygments_lexer": "ipython3",
   "version": "3.8.12"
  },
  "orig_nbformat": 4
 },
 "nbformat": 4,
 "nbformat_minor": 2
}
