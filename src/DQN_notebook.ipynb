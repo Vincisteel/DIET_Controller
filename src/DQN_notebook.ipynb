{
 "cells": [
  {
   "cell_type": "code",
   "execution_count": 1,
   "metadata": {},
   "outputs": [],
   "source": [
    "from typing import Dict, List, Tuple\n",
    "import torch\n",
    "import numpy as np\n",
    "import gym\n",
    "from plotly.subplots import make_subplots\n",
    "from agent.DQN_Agent import DQNAgent\n",
    "from environment.DiscreteEnvironment import DiscreteSimpleEnvironment\n",
    "\n",
    "import pandas as pd\n",
    "\n",
    "%load_ext autoreload\n",
    "%autoreload 2"
   ]
  },
  {
   "cell_type": "markdown",
   "metadata": {},
   "source": [
    "## Set environment and agent parameters"
   ]
  },
  {
   "cell_type": "code",
   "execution_count": 2,
   "metadata": {},
   "outputs": [],
   "source": [
    "env = DiscreteSimpleEnvironment(param_list=['Tair', 'RH', 'Tmrt', 'Tout', 'Qheat', 'Occ'],\n",
    "alpha=1,\n",
    "beta=1,\n",
    "min_temp=16,\n",
    "max_temp=21,\n",
    "discrete_action_dim=100,\n",
    "modelname='CELLS_v1.fmu',\n",
    "simulation_path=r'C:\\Users\\hbenoit\\Desktop\\DIET_Controller\\EnergyPlus_simulations\\simple_simulation',\n",
    "days=151,\n",
    "hours=24,\n",
    "minutes=60,\n",
    "seconds=60,\n",
    "ep_timestep=6)\n",
    "\n",
    "agent_arguments = {\n",
    "\"memory_size\": [1000,2000],\n",
    "\"batch_size\": [64,128],\n",
    "\"actor_update\":[4],\n",
    "\"target_update\": [100],\n",
    "\"epsilon_decay\": [1 / 20000],\n",
    "\"max_epsilon\": [1],\n",
    "\"min_epsilon\":  [0.0],\n",
    "\"lr\":[1e-3],\n",
    "\"gamma\": [0.99],\n",
    "\"inside_dim\": [128,256],\n",
    "\"num_hidden_layers\": [10,12,14],\n",
    "\"seed\": [800]\n",
    "}\n",
    "\n",
    "agent_arguments = {\n",
    "\"memory_size\": [1000],\n",
    "\"batch_size\": [64],\n",
    "\"actor_update\":[4],\n",
    "\"target_update\": [100],\n",
    "\"epsilon_decay\": [1 / 20000],\n",
    "\"max_epsilon\": [1],\n",
    "\"min_epsilon\":  [0.0],\n",
    "\"lr\":[1e-3],\n",
    "\"gamma\": [0.99],\n",
    "\"inside_dim\": [128],\n",
    "\"num_hidden_layers\": [2],\n",
    "\"seed\": [800]\n",
    "}\n"
   ]
  },
  {
   "cell_type": "code",
   "execution_count": 4,
   "metadata": {},
   "outputs": [
    {
     "data": {
      "text/plain": [
       "'C:\\\\Users\\\\hbenoit\\\\Desktop\\\\DIET_Controller\\\\logs\\\\simple_simulation/DQN_Agent/results/2022_6_15/results_2022_6_15_9_41'"
      ]
     },
     "execution_count": 4,
     "metadata": {},
     "output_type": "execute_result"
    }
   ],
   "source": [
    "results_path"
   ]
  },
  {
   "cell_type": "code",
   "execution_count": 3,
   "metadata": {},
   "outputs": [
    {
     "name": "stdout",
     "output_type": "stream",
     "text": [
      "WE TRAIN\n",
      "Iteration0\n",
      "Iteration1000\n",
      "Iteration2000\n"
     ]
    },
    {
     "data": {
      "image/png": "[encoded data removed]",
      "text/plain": [
       "<Figure size 1080x504 with 1 Axes>"
      ]
     },
     "metadata": {
      "needs_background": "light"
     },
     "output_type": "display_data"
    }
   ],
   "source": [
    "from Performance import all_combinations_list\n",
    "from Performance import search_similar\n",
    "\n",
    "logging_path = r\"C:\\Users\\hbenoit\\Desktop\\DIET_Controller\\logs\\simple_simulation\"\n",
    "\n",
    "for curr_agent_arguments in all_combinations_list(agent_arguments):\n",
    "\n",
    "    searching_directory = r\"C:\\Users\\hbenoit\\Desktop\\DIET_Controller\\logs\\simple_simulation\\results\\DQN_Agent\"\n",
    "    agent = DQNAgent(env).from_dict(dict_arguments=curr_agent_arguments)\n",
    "    log_dict = {**agent.log_dict(), **env.log_dict()}\n",
    "    num_episodes =1\n",
    "    log_dict[\"num_episodes\"] = num_episodes\n",
    "\n",
    "    if(not(search_similar(searching_directory, log_dict))):\n",
    "        print(\"WE TRAIN\")\n",
    "        results_path, summary_df = agent.train(logging_path= logging_path, num_episodes=num_episodes, num_iterations=2100 ,log=True)\n",
    "  "
   ]
  },
  {
   "cell_type": "code",
   "execution_count": 14,
   "metadata": {},
   "outputs": [
    {
     "data": {
      "text/plain": [
       "{'is_test': False,\n",
       " 'memory_size': 2000,\n",
       " 'batch_size': 64,\n",
       " 'target_update': 100,\n",
       " 'actor_update': 4,\n",
       " 'epsilon_decay': 5e-05,\n",
       " 'max_epsilon': 1,\n",
       " 'min_epsilon': 0.0,\n",
       " 'lr': 0.001,\n",
       " 'gamma': 0.99,\n",
       " 'inside_dim': 256,\n",
       " 'num_hidden_layers': 12,\n",
       " 'seed': 800,\n",
       " 'param_list': ['Tair', 'RH', 'Tmrt', 'Tout', 'Qheat', 'Occ'],\n",
       " 'observation_dim': 6,\n",
       " 'action_dim': 1,\n",
       " 'min_temp': 16,\n",
       " 'max_temp': 21,\n",
       " 'alpha': 1,\n",
       " 'beta': 1,\n",
       " 'modelname': 'CELLS_v1.fmu',\n",
       " 'days': 151,\n",
       " 'hours': 24,\n",
       " 'minutes': 60,\n",
       " 'seconds': 60,\n",
       " 'ep_timestep': 6,\n",
       " 'discrete_action_dim': 100,\n",
       " 'num_episodes': 10,\n",
       " 'num_iterations': 21744,\n",
       " 'final_reward': 242275.87176397615,\n",
       " 'final_cumulative_heating': 11472257911.653708,\n",
       " 'pmvs': {'[-inf,-2]': 0.10946008094186901,\n",
       "  '[-2.0,-1.5]': 0.1803991905813098,\n",
       "  '[-1.5,-1.0]': 0.18393119941133187,\n",
       "  '[-1.0,-0.5]': 0.28969830757910225,\n",
       "  '[-0.5,0.0]': 0.13544426048565122,\n",
       "  '[0.0,0.5]': 0.06733351729212657,\n",
       "  '[0.5,1.0]': 0.03103384841795438,\n",
       "  '[1.0,inf]': 0.0026995952906548933}}"
      ]
     },
     "execution_count": 14,
     "metadata": {},
     "output_type": "execute_result"
    }
   ],
   "source": [
    "import Performance\n",
    "\n",
    "Performance.open_json_params('C:\\\\Users\\\\hbenoit\\\\Desktop\\\\DIET_Controller\\\\logs\\\\simple_simulation\\\\DQN_Agent\\\\results\\\\2022_6_15\\\\results_2022_6_15_7_46')"
   ]
  },
  {
   "cell_type": "code",
   "execution_count": 12,
   "metadata": {},
   "outputs": [
    {
     "data": {
      "text/plain": [
       "['C:\\\\Users\\\\hbenoit\\\\Desktop\\\\DIET_Controller\\\\logs\\\\simple_simulation\\\\DQN_Agent\\\\results\\\\2022_6_15\\\\results_2022_6_15_5_43',\n",
       " 'C:\\\\Users\\\\hbenoit\\\\Desktop\\\\DIET_Controller\\\\logs\\\\simple_simulation\\\\DQN_Agent\\\\results\\\\2022_6_15\\\\results_2022_6_15_7_46',\n",
       " 'C:\\\\Users\\\\hbenoit\\\\Desktop\\\\DIET_Controller\\\\logs\\\\simple_simulation\\\\DQN_Agent\\\\results\\\\2022_6_15\\\\results_2022_6_15_7_54',\n",
       " 'C:\\\\Users\\\\hbenoit\\\\Desktop\\\\DIET_Controller\\\\logs\\\\simple_simulation\\\\DQN_Agent\\\\results\\\\2022_6_15\\\\results_2022_6_15_6_6',\n",
       " 'C:\\\\Users\\\\hbenoit\\\\Desktop\\\\DIET_Controller\\\\logs\\\\simple_simulation\\\\DQN_Agent\\\\results\\\\2022_6_15\\\\results_2022_6_15_7_39',\n",
       " 'C:\\\\Users\\\\hbenoit\\\\Desktop\\\\DIET_Controller\\\\logs\\\\simple_simulation\\\\DQN_Agent\\\\results\\\\2022_6_15\\\\results_2022_6_15_6_14',\n",
       " 'C:\\\\Users\\\\hbenoit\\\\Desktop\\\\DIET_Controller\\\\logs\\\\simple_simulation\\\\DQN_Agent\\\\results\\\\2022_6_15\\\\results_2022_6_15_7_31',\n",
       " 'C:\\\\Users\\\\hbenoit\\\\Desktop\\\\DIET_Controller\\\\logs\\\\simple_simulation\\\\DQN_Agent\\\\results\\\\2022_6_15\\\\results_2022_6_15_5_59',\n",
       " 'C:\\\\Users\\\\hbenoit\\\\Desktop\\\\DIET_Controller\\\\logs\\\\simple_simulation\\\\DQN_Agent\\\\results\\\\2022_6_15\\\\results_2022_6_15_7_23',\n",
       " 'C:\\\\Users\\\\hbenoit\\\\Desktop\\\\DIET_Controller\\\\logs\\\\simple_simulation\\\\DQN_Agent\\\\results\\\\2022_6_15\\\\results_2022_6_15_7_15']"
      ]
     },
     "execution_count": 12,
     "metadata": {},
     "output_type": "execute_result"
    }
   ],
   "source": [
    "# Example of how to use the function: \n",
    "import Performance\n",
    "\n",
    "searching_directory = r\"C:\\Users\\hbenoit\\Desktop\\DIET_Controller\\logs\\simple_simulation\\DQN_Agent\"\n",
    "\n",
    "conditions={\n",
    "    \"is_test\":[\"=\",False],\n",
    "    \"num_iterations\": [\"=\",21744], # to only have have trainings where the full simulation was used\n",
    "    #\"num_episodes\":[\"=\",3],\n",
    "    \"alpha\":[\"=\",1],\n",
    "    \"beta\":[\"=\",1],\n",
    "    \"num_hidden_layers\":[\">\",2],\n",
    "\n",
    "}\n",
    "\n",
    "conditions = {\"seed\":[\"=\",800],    \"alpha\":[\"=\",1],\n",
    "    \"beta\":[\"=\",1], \"num_episodes\":[\"=\",10]}\n",
    "\n",
    "path_list = Performance.search_paths(searching_directory,conditions=conditions, top_k=10, utility_function=Performance.cumulative_reward,normalized=True)\n",
    "\n",
    "path_list"
   ]
  },
  {
   "cell_type": "code",
   "execution_count": null,
   "metadata": {},
   "outputs": [],
   "source": [
    "path_list"
   ]
  },
  {
   "cell_type": "markdown",
   "metadata": {},
   "source": [
    "## Modify jsons"
   ]
  },
  {
   "cell_type": "code",
   "execution_count": null,
   "metadata": {},
   "outputs": [],
   "source": [
    "from pathlib import Path\n",
    "import json\n",
    "\n",
    "searching_directory = r\"C:\\Users\\Harold\\Desktop\\ENAC-Semester-Project\\DIET_Controller\\results\\DQN_Agent\"\n",
    "\n",
    "for path in Path(searching_directory).glob(\"**/*json\"):\n",
    "        \n",
    "        if os.path.getsize(path) > 0 and str(path).__contains__(\"env_params\"):\n",
    "                f = open(path,\"r\")\n",
    "                log_dict = json.load(f)\n",
    "                closed= False\n",
    "                if not(\"discrete_action_dim\" in log_dict.keys()) or (log_dict[\"action_dim\"] != 1):\n",
    "                    print(path)\n",
    "                    closed=True\n",
    "                    log_dict[\"discrete_action_dim\"] = log_dict[\"action_dim\"]\n",
    "                    log_dict[\"action_dim\"] = 1\n",
    "                    f.close()\n",
    "\n",
    "                    os.remove(path)\n",
    "                    with open(path, 'w') as f:\n",
    "                        f.write(json.dumps(log_dict,indent=True))\n",
    "\n",
    "                if not(closed):\n",
    "                    f.close()\n"
   ]
  },
  {
   "cell_type": "markdown",
   "metadata": {},
   "source": [
    "# Testing performance pipeline"
   ]
  },
  {
   "cell_type": "code",
   "execution_count": null,
   "metadata": {},
   "outputs": [],
   "source": [
    "import Performance\n",
    "\n",
    "env = DiscreteSimpleEnvironment(param_list=['Tair', 'RH', 'Tmrt', 'Tout', 'Qheat', 'Occ'],\n",
    "alpha=1,\n",
    "beta=1,\n",
    "min_temp=16,\n",
    "max_temp=21,\n",
    "discrete_action_dim=100,\n",
    "modelname='CELLS_v1.fmu',\n",
    "simulation_path=r'C:\\Users\\Harold\\Desktop\\ENAC-Semester-Project\\DIET_Controller\\EnergyPlus_simulations\\simple_simulation',\n",
    "days=151,\n",
    "hours=24,\n",
    "minutes=60,\n",
    "seconds=60,\n",
    "ep_timestep=6)\n",
    "\n",
    "agent_arguments = {\n",
    "\"memory_size\": [1000],\n",
    "\"batch_size\": [32],\n",
    "\"target_update\": [100],\n",
    "\"epsilon_decay\": [1 / 20000],\n",
    "\"max_epsilon\": [1],\n",
    "\"min_epsilon\":  [0.0],\n",
    "\"gamma\": [0.99],\n",
    "\"inside_dim\": [128],\n",
    "\"num_hidden_layers\": [1],\n",
    "\"seed\": [778]\n",
    "}\n",
    "\n",
    "\n",
    "parameter = (\"seed\", [775,776])\n",
    "\n",
    "logging_path = r\"C:\\Users\\Harold\\Desktop\\ENAC-Semester-Project\\DIET_Controller\\logs\\simple_simulation\"\n",
    "\n",
    "utility_function = Performance.cumulative_reward\n",
    "\n",
    "agent = DQNAgent(env=env)\n",
    "num_episodes = 1\n",
    "num_iterations = env.numsteps\n",
    "agent_name = \"DQN_Agent\"\n",
    "\n",
    "dispersion,risk, results_dict = Performance.across_runs(agent=agent, agent_arguments=agent_arguments, parameter=parameter,\n",
    "    logging_path=logging_path, num_episodes=num_episodes, num_iterations=num_iterations, utility_function=utility_function,alpha=0.05)\n",
    "\n",
    "logger = SimpleLogger(\n",
    "        logging_path=logging_path,\n",
    "        agent_name=\"DQN_Agent\",\n",
    "        num_episodes=num_episodes,\n",
    "        num_iterations=num_iterations,\n",
    "    )\n",
    "\n",
    "logger.log_performance_pipeline(results_dict)\n",
    "\n",
    "\n"
   ]
  }
 ],
 "metadata": {
  "interpreter": {
   "hash": "4958ec7dcff5f5ebfb92a5bea20aeb391fd8141699bb6c6ea3d3d9a03f500564"
  },
  "kernelspec": {
   "display_name": "Python 3.9.12 ('eplus')",
   "language": "python",
   "name": "python3"
  },
  "language_info": {
   "codemirror_mode": {
    "name": "ipython",
    "version": 3
   },
   "file_extension": ".py",
   "mimetype": "text/x-python",
   "name": "python",
   "nbconvert_exporter": "python",
   "pygments_lexer": "ipython3",
   "version": "3.9.12"
  },
  "orig_nbformat": 4
 },
 "nbformat": 4,
 "nbformat_minor": 2
}
