{
 "cells": [
  {
   "cell_type": "code",
   "execution_count": 1,
   "metadata": {},
   "outputs": [
    {
     "name": "stderr",
     "output_type": "stream",
     "text": [
      "\n"
     ]
    }
   ],
   "source": [
    "from typing import Dict, List, Tuple\n",
    "import torch\n",
    "import numpy as np\n",
    "import gym\n",
    "from plotly.subplots import make_subplots\n",
    "from agent.DQN_Agent import *\n",
    "from environment.DiscreteEnvironment import DiscreteSimpleEnvironment\n",
    "\n",
    "%load_ext autoreload\n",
    "%autoreload 2"
   ]
  },
  {
   "cell_type": "markdown",
   "metadata": {},
   "source": [
    "## Set environment and agent parameters"
   ]
  },
  {
   "cell_type": "code",
   "execution_count": null,
   "metadata": {},
   "outputs": [],
   "source": [
    "env_arguments = {\n",
    "\"alpha\":1,\n",
    "\"beta\":1,\n",
    "\"min_temp\" : 16,\n",
    "\"max_temp\" : 21,\n",
    "\"action_dim\": 100,\n",
    "\"modelname\":'CELLS_v1.fmu',\n",
    "\"simulation_path\":  r'C:\\Users\\Harold\\Desktop\\ENAC-Semester-Project\\DIET_Controller\\EnergyPlus_simulations\\simple_simulation',\n",
    "\"param_list\": ['Tair', 'RH', 'Tmrt', 'Tout', 'Qheat', 'Occ'],\n",
    "\"days\": 151,  \n",
    "\"hours\": 24,  \n",
    "\"minutes\": 60,\n",
    "\"seconds\": 60,\n",
    "\"ep_timestep\": 6\n",
    "}\n",
    "\n",
    "env = DiscreteSimpleEnvironment(param_list=['Tair', 'RH', 'Tmrt', 'Tout', 'Qheat', 'Occ'],\n",
    "alpha=1,\n",
    "beta=1,\n",
    "min_temp=16,\n",
    "max_temp=21,\n",
    "discrete_action_dim=100,\n",
    "modelname='CELLS_v1.fmu',\n",
    "simulation_path=r'C:\\Users\\Harold\\Desktop\\ENAC-Semester-Project\\DIET_Controller\\EnergyPlus_simulations\\simple_simulation',\n",
    "days=151,\n",
    "hours=24,\n",
    "minutes=60,\n",
    "seconds=60,\n",
    "ep_timestep=6)\n",
    "\n",
    "agent_arguments = {\n",
    "\"memory_size\": [1000],\n",
    "\"batch_size\": [32],\n",
    "\"actor_update\":[2],\n",
    "\"target_update\": [100],\n",
    "\"epsilon_decay\": [1 / 20000],\n",
    "\"max_epsilon\": [1],\n",
    "\"min_epsilon\":  [0.0],\n",
    "\"lr\":[1e-3],\n",
    "\"gamma\": [0.99],\n",
    "\"inside_dim\": [128],\n",
    "\"num_hidden_layers\": [1],\n",
    "\"seed\": [778]\n",
    "}\n",
    "\n",
    "def cumulative_reward(data:pd.DataFrame) -> float:\n",
    "    return np.cumsum(np.array(data[\"Reward\"]))[-1]"
   ]
  },
  {
   "cell_type": "code",
   "execution_count": null,
   "metadata": {},
   "outputs": [],
   "source": []
  },
  {
   "cell_type": "markdown",
   "metadata": {},
   "source": []
  },
  {
   "cell_type": "code",
   "execution_count": null,
   "metadata": {},
   "outputs": [],
   "source": [
    "from utils import all_combinations_list\n",
    "\n",
    "best_reward = -np.inf\n",
    "best_path = \"\"\n",
    "\n",
    "logging_path = r\"C:\\Users\\Harold\\Desktop\\ENAC-Semester-Project\\DIET_Controller\\logs\\simple_simulation\"\n",
    "\n",
    "for curr_agent_arguments in all_combinations_list(agent_arguments):\n",
    "\n",
    "    agent = DQNAgent(env).from_dict(dict_arguments=curr_agent_arguments)\n",
    "    results_path, summary_df = agent.train(logging_path= logging_path, num_episodes=1, num_iterations=5000 ,log=True)\n",
    "    total_cum_reward = cumulative_reward(summary_df)\n",
    "    if total_cum_reward > best_reward:\n",
    "        best_reward = total_cum_reward\n",
    "        best_path = results_path\n",
    "  \n",
    "\n",
    "best_path\n",
    "\n"
   ]
  },
  {
   "cell_type": "code",
   "execution_count": null,
   "metadata": {},
   "outputs": [],
   "source": [
    "l = [[{'secondary_y': False}], [{'secondary_y': True}], [{'secondary_y': False}], [{'secondary_y': True}], [{'secondary_y': True}], [{'secondary_y': False}], [{'secondary_y': False}], [{'secondary_y': False}]]\n",
    "\n",
    "len(l)"
   ]
  },
  {
   "cell_type": "code",
   "execution_count": 4,
   "metadata": {},
   "outputs": [
    {
     "name": "stdout",
     "output_type": "stream",
     "text": [
      "[145215.49971531  72248.99796214  72109.20801075  72100.88079197\n",
      "  72046.07607593  72012.15949514  72000.96291864  71994.13594388\n",
      "  71914.06701021  71885.19966802  69971.19843831]\n"
     ]
    },
    {
     "data": {
      "text/plain": [
       "9"
      ]
     },
     "execution_count": 4,
     "metadata": {},
     "output_type": "execute_result"
    }
   ],
   "source": [
    "# Example of how to use the function: \n",
    "import Performance\n",
    "\n",
    "searching_directory = r\"C:\\Users\\Harold\\Desktop\\ENAC-Semester-Project\\DIET_Controller\\logs\\simple_simulation\\results\\DQN_Agent\"\n",
    "\n",
    "conditions={\n",
    "    \"is_test\":[\"=\",False],\n",
    "    \"num_iterations\": [\"=\",21744], # to only have have trainings where the full simulation was used\n",
    "    #\"num_episodes\":[\"=\",3],\n",
    "    \"alpha\":[\"=\",1],\n",
    "    \"beta\":[\"=\",1],\n",
    "    \"num_hidden_layers\":[\">\",2]\n",
    "}\n",
    "\n",
    "path_list = Performance.search_paths(searching_directory,conditions=conditions, top_k=9)\n",
    "\n",
    "len(path_list)"
   ]
  },
  {
   "cell_type": "markdown",
   "metadata": {},
   "source": [
    "## Modify jsons"
   ]
  },
  {
   "cell_type": "code",
   "execution_count": null,
   "metadata": {},
   "outputs": [],
   "source": [
    "from pathlib import Path\n",
    "import json\n",
    "\n",
    "searching_directory = r\"C:\\Users\\Harold\\Desktop\\ENAC-Semester-Project\\DIET_Controller\\results\\DQN_Agent\"\n",
    "\n",
    "for path in Path(searching_directory).glob(\"**/*json\"):\n",
    "        \n",
    "        if os.path.getsize(path) > 0 and str(path).__contains__(\"env_params\"):\n",
    "                f = open(path,\"r\")\n",
    "                log_dict = json.load(f)\n",
    "                closed= False\n",
    "                if not(\"discrete_action_dim\" in log_dict.keys()) or (log_dict[\"action_dim\"] != 1):\n",
    "                    print(path)\n",
    "                    closed=True\n",
    "                    log_dict[\"discrete_action_dim\"] = log_dict[\"action_dim\"]\n",
    "                    log_dict[\"action_dim\"] = 1\n",
    "                    f.close()\n",
    "\n",
    "                    os.remove(path)\n",
    "                    with open(path, 'w') as f:\n",
    "                        f.write(json.dumps(log_dict,indent=True))\n",
    "\n",
    "                if not(closed):\n",
    "                    f.close()\n"
   ]
  },
  {
   "cell_type": "markdown",
   "metadata": {},
   "source": [
    "# Testing performance pipeline"
   ]
  },
  {
   "cell_type": "code",
   "execution_count": null,
   "metadata": {},
   "outputs": [],
   "source": [
    "import Performance\n",
    "\n",
    "env = DiscreteSimpleEnvironment(param_list=['Tair', 'RH', 'Tmrt', 'Tout', 'Qheat', 'Occ'],\n",
    "alpha=1,\n",
    "beta=1,\n",
    "min_temp=16,\n",
    "max_temp=21,\n",
    "discrete_action_dim=100,\n",
    "modelname='CELLS_v1.fmu',\n",
    "simulation_path=r'C:\\Users\\Harold\\Desktop\\ENAC-Semester-Project\\DIET_Controller\\EnergyPlus_simulations\\simple_simulation',\n",
    "days=151,\n",
    "hours=24,\n",
    "minutes=60,\n",
    "seconds=60,\n",
    "ep_timestep=6)\n",
    "\n",
    "agent_arguments = {\n",
    "\"memory_size\": [1000],\n",
    "\"batch_size\": [32],\n",
    "\"target_update\": [100],\n",
    "\"epsilon_decay\": [1 / 20000],\n",
    "\"max_epsilon\": [1],\n",
    "\"min_epsilon\":  [0.0],\n",
    "\"gamma\": [0.99],\n",
    "\"inside_dim\": [128],\n",
    "\"num_hidden_layers\": [1],\n",
    "\"seed\": [778]\n",
    "}\n",
    "\n",
    "\n",
    "parameter = (\"seed\", [775,776])\n",
    "\n",
    "logging_path = r\"C:\\Users\\Harold\\Desktop\\ENAC-Semester-Project\\DIET_Controller\\logs\\simple_simulation\"\n",
    "\n",
    "utility_function = Performance.cumulative_reward\n",
    "\n",
    "agent = DQNAgent(env=env)\n",
    "num_episodes = 1\n",
    "num_iterations = env.numsteps\n",
    "agent_name = \"DQN_Agent\"\n",
    "\n",
    "dispersion,risk, results_dict = Performance.across_runs(agent=agent, agent_arguments=agent_arguments, parameter=parameter,\n",
    "    logging_path=logging_path, num_episodes=num_episodes, num_iterations=num_iterations, utility_function=utility_function,alpha=0.05)\n",
    "\n",
    "logger = SimpleLogger(\n",
    "        logging_path=logging_path,\n",
    "        agent_name=\"DQN_Agent\",\n",
    "        num_episodes=num_episodes,\n",
    "        num_iterations=num_iterations,\n",
    "    )\n",
    "\n",
    "logger.log_performance_pipeline(results_dict)\n",
    "\n",
    "\n"
   ]
  }
 ],
 "metadata": {
  "interpreter": {
   "hash": "6b6b609373cab7b4f35f89e556fae7285533d0878866e99b2da014c0f4ef9f7d"
  },
  "kernelspec": {
   "display_name": "Python 3.8.12 ('base')",
   "language": "python",
   "name": "python3"
  },
  "language_info": {
   "codemirror_mode": {
    "name": "ipython",
    "version": 3
   },
   "file_extension": ".py",
   "mimetype": "text/x-python",
   "name": "python",
   "nbconvert_exporter": "python",
   "pygments_lexer": "ipython3",
   "version": "3.8.12"
  },
  "orig_nbformat": 4
 },
 "nbformat": 4,
 "nbformat_minor": 2
}
