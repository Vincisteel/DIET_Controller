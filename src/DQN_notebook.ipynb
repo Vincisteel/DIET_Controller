{
 "cells": [
  {
   "cell_type": "code",
   "execution_count": 4,
   "metadata": {},
   "outputs": [
    {
     "name": "stdout",
     "output_type": "stream",
     "text": [
      "The autoreload extension is already loaded. To reload it, use:\n",
      "  %reload_ext autoreload\n"
     ]
    }
   ],
   "source": [
    "from typing import Dict, List, Tuple\n",
    "import torch\n",
    "import numpy as np\n",
    "import gym\n",
    "from plotly.subplots import make_subplots\n",
    "from agent.DQN_Agent import DQNAgent\n",
    "from environment.DiscreteEnvironment import DiscreteSimpleEnvironment\n",
    "\n",
    "import pandas as pd\n",
    "\n",
    "%load_ext autoreload\n",
    "%autoreload 2"
   ]
  },
  {
   "cell_type": "markdown",
   "metadata": {},
   "source": [
    "## Set environment and agent parameters"
   ]
  },
  {
   "cell_type": "code",
   "execution_count": 5,
   "metadata": {},
   "outputs": [],
   "source": [
    "env_arguments = {\n",
    "\"alpha\":1,\n",
    "\"beta\":1,\n",
    "\"min_temp\" : 16,\n",
    "\"max_temp\" : 21,\n",
    "\"action_dim\": 100,\n",
    "\"modelname\":'CELLS_v1.fmu',\n",
    "\"simulation_path\":  r'C:\\Users\\Harold\\Desktop\\ENAC-Semester-Project\\DIET_Controller\\EnergyPlus_simulations\\simple_simulation',\n",
    "\"param_list\": ['Tair', 'RH', 'Tmrt', 'Tout', 'Qheat', 'Occ'],\n",
    "\"days\": 151,  \n",
    "\"hours\": 24,  \n",
    "\"minutes\": 60,\n",
    "\"seconds\": 60,\n",
    "\"ep_timestep\": 6\n",
    "}\n",
    "\n",
    "env = DiscreteSimpleEnvironment(param_list=['Tair', 'RH', 'Tmrt', 'Tout', 'Qheat', 'Occ'],\n",
    "alpha=1,\n",
    "beta=1,\n",
    "min_temp=16,\n",
    "max_temp=21,\n",
    "discrete_action_dim=100,\n",
    "modelname='CELLS_v1.fmu',\n",
    "simulation_path=r'C:\\Users\\Harold\\Desktop\\ENAC-Semester-Project\\DIET_Controller\\EnergyPlus_simulations\\simple_simulation',\n",
    "days=151,\n",
    "hours=24,\n",
    "minutes=60,\n",
    "seconds=60,\n",
    "ep_timestep=6)\n",
    "\n",
    "agent_arguments = {\n",
    "\"memory_size\": [1000],\n",
    "\"batch_size\": [32],\n",
    "\"actor_update\":[2],\n",
    "\"target_update\": [100],\n",
    "\"epsilon_decay\": [1 / 20000],\n",
    "\"max_epsilon\": [1],\n",
    "\"min_epsilon\":  [0.0],\n",
    "\"lr\":[1e-3],\n",
    "\"gamma\": [0.99],\n",
    "\"inside_dim\": [128],\n",
    "\"num_hidden_layers\": [1],\n",
    "\"seed\": [778]\n",
    "}\n",
    "\n",
    "def cumulative_reward(data:pd.DataFrame) -> float:\n",
    "    return np.cumsum(np.array(data[\"Reward\"]))[-1]"
   ]
  },
  {
   "cell_type": "code",
   "execution_count": 8,
   "metadata": {},
   "outputs": [
    {
     "name": "stdout",
     "output_type": "stream",
     "text": [
      "Iteration0\n",
      "Iteration1000\n",
      "Iteration2000\n",
      "Iteration3000\n",
      "Iteration4000\n",
      "Iteration5000\n",
      "Iteration6000\n",
      "Iteration7000\n",
      "Iteration8000\n",
      "Iteration9000\n",
      "Iteration10000\n",
      "Iteration11000\n",
      "Iteration12000\n",
      "Iteration13000\n",
      "Iteration14000\n",
      "Iteration15000\n",
      "Iteration16000\n",
      "Iteration17000\n",
      "Iteration18000\n",
      "Iteration19000\n",
      "Iteration20000\n",
      "Iteration21000\n"
     ]
    },
    {
     "data": {
      "image/png": "[encoded data removed]",
      "text/plain": [
       "<Figure size 1080x504 with 1 Axes>"
      ]
     },
     "metadata": {
      "needs_background": "light"
     },
     "output_type": "display_data"
    }
   ],
   "source": [
    "from environment.DiscreteEnvironment import DiscreteSimpleEnvironment\n",
    "from agent.DQN_Agent import DQNAgent\n",
    "\n",
    "env = DiscreteSimpleEnvironment()\n",
    "agent = DQNAgent(env)\n",
    "\n",
    "## please put the absolute path to the ICCP project\n",
    "logging_path = r\"C:\\Users\\Harold\\Desktop\\ENAC-Semester-Project\\DIET_Controller\\logs\\simple_simulation\"\n",
    "results_path, summary_df = agent.train(logging_path= logging_path, num_episodes=1)"
   ]
  },
  {
   "cell_type": "markdown",
   "metadata": {},
   "source": []
  },
  {
   "cell_type": "code",
   "execution_count": 6,
   "metadata": {},
   "outputs": [
    {
     "ename": "FileNotFoundError",
     "evalue": "[WinError 3] The system cannot find the path specified: '.\\\\logs\\\\simple_simulation'",
     "output_type": "error",
     "traceback": [
      "\u001b[1;31m---------------------------------------------------------------------------\u001b[0m",
      "\u001b[1;31mFileNotFoundError\u001b[0m                         Traceback (most recent call last)",
      "\u001b[1;32mc:\\Users\\Harold\\Desktop\\ENAC-Semester-Project\\DIET_Controller\\src\\DQN_notebook.ipynb Cell 5'\u001b[0m in \u001b[0;36m<cell line: 9>\u001b[1;34m()\u001b[0m\n\u001b[0;32m      <a href='vscode-notebook-cell:/c%3A/Users/Harold/Desktop/ENAC-Semester-Project/DIET_Controller/src/DQN_notebook.ipynb#ch0000005?line=8'>9</a>\u001b[0m \u001b[39mfor\u001b[39;00m curr_agent_arguments \u001b[39min\u001b[39;00m all_combinations_list(agent_arguments):\n\u001b[0;32m     <a href='vscode-notebook-cell:/c%3A/Users/Harold/Desktop/ENAC-Semester-Project/DIET_Controller/src/DQN_notebook.ipynb#ch0000005?line=10'>11</a>\u001b[0m     agent \u001b[39m=\u001b[39m DQNAgent(env)\u001b[39m.\u001b[39mfrom_dict(dict_arguments\u001b[39m=\u001b[39mcurr_agent_arguments)\n\u001b[1;32m---> <a href='vscode-notebook-cell:/c%3A/Users/Harold/Desktop/ENAC-Semester-Project/DIET_Controller/src/DQN_notebook.ipynb#ch0000005?line=11'>12</a>\u001b[0m     results_path, summary_df \u001b[39m=\u001b[39m agent\u001b[39m.\u001b[39;49mtrain(logging_path\u001b[39m=\u001b[39;49m logging_path, num_episodes\u001b[39m=\u001b[39;49m\u001b[39m1\u001b[39;49m, num_iterations\u001b[39m=\u001b[39;49m\u001b[39m200\u001b[39;49m ,log\u001b[39m=\u001b[39;49m\u001b[39mTrue\u001b[39;49;00m)\n\u001b[0;32m     <a href='vscode-notebook-cell:/c%3A/Users/Harold/Desktop/ENAC-Semester-Project/DIET_Controller/src/DQN_notebook.ipynb#ch0000005?line=12'>13</a>\u001b[0m     total_cum_reward \u001b[39m=\u001b[39m cumulative_reward(summary_df)\n\u001b[0;32m     <a href='vscode-notebook-cell:/c%3A/Users/Harold/Desktop/ENAC-Semester-Project/DIET_Controller/src/DQN_notebook.ipynb#ch0000005?line=13'>14</a>\u001b[0m     \u001b[39mif\u001b[39;00m total_cum_reward \u001b[39m>\u001b[39m best_reward:\n",
      "File \u001b[1;32mc:\\Users\\Harold\\Desktop\\ENAC-Semester-Project\\DIET_Controller\\src\\agent\\DQN_Agent.py:276\u001b[0m, in \u001b[0;36mDQNAgent.train\u001b[1;34m(self, logging_path, num_iterations, num_episodes, log, is_test)\u001b[0m\n\u001b[0;32m    274\u001b[0m state \u001b[39m=\u001b[39m \u001b[39mself\u001b[39m\u001b[39m.\u001b[39menv\u001b[39m.\u001b[39mreset()\n\u001b[0;32m    275\u001b[0m \u001b[39m# need to chdir back to logging_path at each episode because calling env.reset() calls chdir() too\u001b[39;00m\n\u001b[1;32m--> 276\u001b[0m os\u001b[39m.\u001b[39;49mchdir(logging_path)\n\u001b[0;32m    278\u001b[0m \u001b[39m## to keep track of number of updates and update target network accordingly\u001b[39;00m\n\u001b[0;32m    279\u001b[0m update_cnt \u001b[39m=\u001b[39m \u001b[39m0\u001b[39m\n",
      "\u001b[1;31mFileNotFoundError\u001b[0m: [WinError 3] The system cannot find the path specified: '.\\\\logs\\\\simple_simulation'"
     ]
    }
   ],
   "source": [
    "from Performance import all_combinations_list\n",
    "\n",
    "best_reward = -np.inf\n",
    "best_path = \"\"\n",
    "\n",
    "logging_path = r\"C:\\Users\\Harold\\Desktop\\ENAC-Semester-Project\\DIET_Controller\\logs\\simple_simulation\"\n",
    "\n",
    "for curr_agent_arguments in all_combinations_list(agent_arguments):\n",
    "\n",
    "    agent = DQNAgent(env).from_dict(dict_arguments=curr_agent_arguments)\n",
    "    results_path, summary_df = agent.train(logging_path= logging_path, num_episodes=1, num_iterations=200 ,log=True)\n",
    "    total_cum_reward = cumulative_reward(summary_df)\n",
    "    if total_cum_reward > best_reward:\n",
    "        best_reward = total_cum_reward\n",
    "        best_path = results_path\n",
    "  \n",
    "\n",
    "best_path\n",
    "\n"
   ]
  },
  {
   "cell_type": "code",
   "execution_count": null,
   "metadata": {},
   "outputs": [],
   "source": [
    "l = [[{'secondary_y': False}], [{'secondary_y': True}], [{'secondary_y': False}], [{'secondary_y': True}], [{'secondary_y': True}], [{'secondary_y': False}], [{'secondary_y': False}], [{'secondary_y': False}]]\n",
    "\n",
    "len(l)"
   ]
  },
  {
   "cell_type": "code",
   "execution_count": 1,
   "metadata": {},
   "outputs": [],
   "source": [
    "# Example of how to use the function: \n",
    "import Performance\n",
    "\n",
    "searching_directory = r\"C:\\Users\\Harold\\Desktop\\ENAC-Semester-Project\\DIET_Controller\\logs\\simple_simulation\\results\\DQN_Agent\"\n",
    "\n",
    "conditions={\n",
    "    \"is_test\":[\"=\",False],\n",
    "    \"num_iterations\": [\"=\",21744], # to only have have trainings where the full simulation was used\n",
    "    #\"num_episodes\":[\"=\",3],\n",
    "    \"alpha\":[\"=\",1],\n",
    "    \"beta\":[\"=\",1],\n",
    "    \"num_hidden_layers\":[\">\",2]\n",
    "}\n",
    "\n",
    "conditions = {}\n",
    "\n",
    "path_list = Performance.search_paths(searching_directory,conditions=conditions, top_k=20, utility_function=Performance.cumulative_reward,normalized=True)"
   ]
  },
  {
   "cell_type": "code",
   "execution_count": 2,
   "metadata": {},
   "outputs": [
    {
     "data": {
      "text/plain": [
       "['C:\\\\Users\\\\Harold\\\\Desktop\\\\ENAC-Semester-Project\\\\DIET_Controller\\\\logs\\\\simple_simulation\\\\results\\\\DQN_Agent\\\\2022_5_2\\\\results_2022_5_2_22_53',\n",
       " 'C:\\\\Users\\\\Harold\\\\Desktop\\\\ENAC-Semester-Project\\\\DIET_Controller\\\\logs\\\\simple_simulation\\\\results\\\\DQN_Agent\\\\2022_5_2\\\\results_2022_5_2_22_53',\n",
       " 'C:\\\\Users\\\\Harold\\\\Desktop\\\\ENAC-Semester-Project\\\\DIET_Controller\\\\logs\\\\simple_simulation\\\\results\\\\DQN_Agent\\\\2022_5_2\\\\results_2022_5_2_23_8',\n",
       " 'C:\\\\Users\\\\Harold\\\\Desktop\\\\ENAC-Semester-Project\\\\DIET_Controller\\\\logs\\\\simple_simulation\\\\results\\\\DQN_Agent\\\\2022_5_2\\\\results_2022_5_2_23_22',\n",
       " 'C:\\\\Users\\\\Harold\\\\Desktop\\\\ENAC-Semester-Project\\\\DIET_Controller\\\\logs\\\\simple_simulation\\\\results\\\\DQN_Agent\\\\2022_4_30\\\\results_2022_4_30_15_15',\n",
       " 'C:\\\\Users\\\\Harold\\\\Desktop\\\\ENAC-Semester-Project\\\\DIET_Controller\\\\logs\\\\simple_simulation\\\\results\\\\DQN_Agent\\\\2022_4_30\\\\results_2022_4_30_16_20',\n",
       " 'C:\\\\Users\\\\Harold\\\\Desktop\\\\ENAC-Semester-Project\\\\DIET_Controller\\\\logs\\\\simple_simulation\\\\results\\\\DQN_Agent\\\\2022_4_30\\\\results_2022_4_30_15_39',\n",
       " 'C:\\\\Users\\\\Harold\\\\Desktop\\\\ENAC-Semester-Project\\\\DIET_Controller\\\\logs\\\\simple_simulation\\\\results\\\\DQN_Agent\\\\2022_4_30\\\\results_2022_4_30_15_31',\n",
       " 'C:\\\\Users\\\\Harold\\\\Desktop\\\\ENAC-Semester-Project\\\\DIET_Controller\\\\logs\\\\simple_simulation\\\\results\\\\DQN_Agent\\\\2022_4_30\\\\results_2022_4_30_16_10',\n",
       " 'C:\\\\Users\\\\Harold\\\\Desktop\\\\ENAC-Semester-Project\\\\DIET_Controller\\\\logs\\\\simple_simulation\\\\results\\\\DQN_Agent\\\\2022_4_30\\\\results_2022_4_30_15_50',\n",
       " 'C:\\\\Users\\\\Harold\\\\Desktop\\\\ENAC-Semester-Project\\\\DIET_Controller\\\\logs\\\\simple_simulation\\\\results\\\\DQN_Agent\\\\2022_4_30\\\\results_2022_4_30_22_49',\n",
       " 'C:\\\\Users\\\\Harold\\\\Desktop\\\\ENAC-Semester-Project\\\\DIET_Controller\\\\logs\\\\simple_simulation\\\\results\\\\DQN_Agent\\\\2022_4_30\\\\results_2022_4_30_22_31',\n",
       " 'C:\\\\Users\\\\Harold\\\\Desktop\\\\ENAC-Semester-Project\\\\DIET_Controller\\\\logs\\\\simple_simulation\\\\results\\\\DQN_Agent\\\\2022_4_30\\\\results_2022_4_30_22_18',\n",
       " 'C:\\\\Users\\\\Harold\\\\Desktop\\\\ENAC-Semester-Project\\\\DIET_Controller\\\\logs\\\\simple_simulation\\\\results\\\\DQN_Agent\\\\2022_4_30\\\\results_2022_4_30_16_2',\n",
       " 'C:\\\\Users\\\\Harold\\\\Desktop\\\\ENAC-Semester-Project\\\\DIET_Controller\\\\logs\\\\simple_simulation\\\\results\\\\DQN_Agent\\\\2022_5_2\\\\results_2022_5_2_21_56',\n",
       " 'C:\\\\Users\\\\Harold\\\\Desktop\\\\ENAC-Semester-Project\\\\DIET_Controller\\\\logs\\\\simple_simulation\\\\results\\\\DQN_Agent\\\\2022_4_30\\\\results_2022_4_30_21_49',\n",
       " 'C:\\\\Users\\\\Harold\\\\Desktop\\\\ENAC-Semester-Project\\\\DIET_Controller\\\\logs\\\\simple_simulation\\\\results\\\\DQN_Agent\\\\2022_4_30\\\\results_2022_4_30_22_1',\n",
       " 'C:\\\\Users\\\\Harold\\\\Desktop\\\\ENAC-Semester-Project\\\\DIET_Controller\\\\logs\\\\simple_simulation\\\\results\\\\DQN_Agent\\\\2022_5_2\\\\results_2022_5_2_21_42',\n",
       " 'C:\\\\Users\\\\Harold\\\\Desktop\\\\ENAC-Semester-Project\\\\DIET_Controller\\\\logs\\\\simple_simulation\\\\results\\\\DQN_Agent\\\\2022_5_14\\\\results_2022_5_14_19_37',\n",
       " 'C:\\\\Users\\\\Harold\\\\Desktop\\\\ENAC-Semester-Project\\\\DIET_Controller\\\\logs\\\\simple_simulation\\\\results\\\\DQN_Agent\\\\2022_5_12\\\\results_2022_5_12_17_6']"
      ]
     },
     "execution_count": 2,
     "metadata": {},
     "output_type": "execute_result"
    }
   ],
   "source": [
    "path_list"
   ]
  },
  {
   "cell_type": "markdown",
   "metadata": {},
   "source": [
    "## Modify jsons"
   ]
  },
  {
   "cell_type": "code",
   "execution_count": null,
   "metadata": {},
   "outputs": [],
   "source": [
    "from pathlib import Path\n",
    "import json\n",
    "\n",
    "searching_directory = r\"C:\\Users\\Harold\\Desktop\\ENAC-Semester-Project\\DIET_Controller\\results\\DQN_Agent\"\n",
    "\n",
    "for path in Path(searching_directory).glob(\"**/*json\"):\n",
    "        \n",
    "        if os.path.getsize(path) > 0 and str(path).__contains__(\"env_params\"):\n",
    "                f = open(path,\"r\")\n",
    "                log_dict = json.load(f)\n",
    "                closed= False\n",
    "                if not(\"discrete_action_dim\" in log_dict.keys()) or (log_dict[\"action_dim\"] != 1):\n",
    "                    print(path)\n",
    "                    closed=True\n",
    "                    log_dict[\"discrete_action_dim\"] = log_dict[\"action_dim\"]\n",
    "                    log_dict[\"action_dim\"] = 1\n",
    "                    f.close()\n",
    "\n",
    "                    os.remove(path)\n",
    "                    with open(path, 'w') as f:\n",
    "                        f.write(json.dumps(log_dict,indent=True))\n",
    "\n",
    "                if not(closed):\n",
    "                    f.close()\n"
   ]
  },
  {
   "cell_type": "markdown",
   "metadata": {},
   "source": [
    "# Testing performance pipeline"
   ]
  },
  {
   "cell_type": "code",
   "execution_count": null,
   "metadata": {},
   "outputs": [],
   "source": [
    "import Performance\n",
    "\n",
    "env = DiscreteSimpleEnvironment(param_list=['Tair', 'RH', 'Tmrt', 'Tout', 'Qheat', 'Occ'],\n",
    "alpha=1,\n",
    "beta=1,\n",
    "min_temp=16,\n",
    "max_temp=21,\n",
    "discrete_action_dim=100,\n",
    "modelname='CELLS_v1.fmu',\n",
    "simulation_path=r'C:\\Users\\Harold\\Desktop\\ENAC-Semester-Project\\DIET_Controller\\EnergyPlus_simulations\\simple_simulation',\n",
    "days=151,\n",
    "hours=24,\n",
    "minutes=60,\n",
    "seconds=60,\n",
    "ep_timestep=6)\n",
    "\n",
    "agent_arguments = {\n",
    "\"memory_size\": [1000],\n",
    "\"batch_size\": [32],\n",
    "\"target_update\": [100],\n",
    "\"epsilon_decay\": [1 / 20000],\n",
    "\"max_epsilon\": [1],\n",
    "\"min_epsilon\":  [0.0],\n",
    "\"gamma\": [0.99],\n",
    "\"inside_dim\": [128],\n",
    "\"num_hidden_layers\": [1],\n",
    "\"seed\": [778]\n",
    "}\n",
    "\n",
    "\n",
    "parameter = (\"seed\", [775,776])\n",
    "\n",
    "logging_path = r\"C:\\Users\\Harold\\Desktop\\ENAC-Semester-Project\\DIET_Controller\\logs\\simple_simulation\"\n",
    "\n",
    "utility_function = Performance.cumulative_reward\n",
    "\n",
    "agent = DQNAgent(env=env)\n",
    "num_episodes = 1\n",
    "num_iterations = env.numsteps\n",
    "agent_name = \"DQN_Agent\"\n",
    "\n",
    "dispersion,risk, results_dict = Performance.across_runs(agent=agent, agent_arguments=agent_arguments, parameter=parameter,\n",
    "    logging_path=logging_path, num_episodes=num_episodes, num_iterations=num_iterations, utility_function=utility_function,alpha=0.05)\n",
    "\n",
    "logger = SimpleLogger(\n",
    "        logging_path=logging_path,\n",
    "        agent_name=\"DQN_Agent\",\n",
    "        num_episodes=num_episodes,\n",
    "        num_iterations=num_iterations,\n",
    "    )\n",
    "\n",
    "logger.log_performance_pipeline(results_dict)\n",
    "\n",
    "\n"
   ]
  }
 ],
 "metadata": {
  "interpreter": {
   "hash": "6b6b609373cab7b4f35f89e556fae7285533d0878866e99b2da014c0f4ef9f7d"
  },
  "kernelspec": {
   "display_name": "Python 3.8.12 ('base')",
   "language": "python",
   "name": "python3"
  },
  "language_info": {
   "codemirror_mode": {
    "name": "ipython",
    "version": 3
   },
   "file_extension": ".py",
   "mimetype": "text/x-python",
   "name": "python",
   "nbconvert_exporter": "python",
   "pygments_lexer": "ipython3",
   "version": "3.8.12"
  },
  "orig_nbformat": 4
 },
 "nbformat": 4,
 "nbformat_minor": 2
}
