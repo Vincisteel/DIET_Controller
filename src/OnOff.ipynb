{
 "cells": [
  {
   "cell_type": "code",
   "execution_count": null,
   "metadata": {},
   "outputs": [],
   "source": [
    "\n",
    "\n",
    "from agent.OnOff_Agent import OnOffAgent\n",
    "from environment.ContinuousEnvironment import ContinuousSimpleEnvironment\n",
    "\n",
    "%load_ext autoreload\n",
    "%autoreload 2"
   ]
  },
  {
   "cell_type": "code",
   "execution_count": 4,
   "metadata": {},
   "outputs": [
    {
     "name": "stdout",
     "output_type": "stream",
     "text": [
      "{'is_test': False, 'memory_size': 2000, 'batch_size': 64, 'target_update': 100, 'actor_update': 4, 'epsilon_decay': 5e-05, 'max_epsilon': 1, 'min_epsilon': 0.0, 'lr': 0.001, 'gamma': 0.99, 'inside_dim': 128, 'num_hidden_layers': 14, 'seed': 800, 'param_list': ['Tair', 'RH', 'Tmrt', 'Tout', 'Qheat', 'Occ'], 'observation_dim': 6, 'action_dim': 1, 'min_temp': 16, 'max_temp': 21, 'alpha': 1, 'beta': 1, 'modelname': 'CELLS_v1.fmu', 'days': 151, 'hours': 24, 'minutes': 60, 'seconds': 60, 'ep_timestep': 6, 'discrete_action_dim': 100, 'num_episodes': 10, 'num_iterations': 21744, 'final_reward': 242275.87176397615, 'final_cumulative_heating': 11472257911.653708, 'pmvs': {'[-inf,-2]': 0.10946008094186901, '[-2.0,-1.5]': 0.1803991905813098, '[-1.5,-1.0]': 0.18393119941133187, '[-1.0,-0.5]': 0.28969830757910225, '[-0.5,0.0]': 0.13544426048565122, '[0.0,0.5]': 0.06733351729212657, '[0.5,1.0]': 0.03103384841795438, '[1.0,inf]': 0.0026995952906548933}}\n"
     ]
    },
    {
     "ename": "RuntimeError",
     "evalue": "Error(s) in loading state_dict for Network:\n\tMissing key(s) in state_dict: \"layers.6.weight\", \"layers.6.bias\", \"layers.8.weight\", \"layers.8.bias\", \"layers.10.weight\", \"layers.10.bias\", \"layers.12.weight\", \"layers.12.bias\", \"layers.14.weight\", \"layers.14.bias\", \"layers.16.weight\", \"layers.16.bias\", \"layers.18.weight\", \"layers.18.bias\", \"layers.20.weight\", \"layers.20.bias\", \"layers.22.weight\", \"layers.22.bias\", \"layers.24.weight\", \"layers.24.bias\", \"layers.26.weight\", \"layers.26.bias\", \"layers.28.weight\", \"layers.28.bias\", \"layers.30.weight\", \"layers.30.bias\". \n\tsize mismatch for layers.4.weight: copying a param with shape torch.Size([100, 128]) from checkpoint, the shape in current model is torch.Size([128, 128]).\n\tsize mismatch for layers.4.bias: copying a param with shape torch.Size([100]) from checkpoint, the shape in current model is torch.Size([128]).",
     "output_type": "error",
     "traceback": [
      "\u001b[1;31m---------------------------------------------------------------------------\u001b[0m",
      "\u001b[1;31mRuntimeError\u001b[0m                              Traceback (most recent call last)",
      "\u001b[1;32mc:\\Users\\hbenoit\\Desktop\\DIET_Controller\\src\\OnOff.ipynb Cell 2'\u001b[0m in \u001b[0;36m<cell line: 13>\u001b[1;34m()\u001b[0m\n\u001b[0;32m      <a href='vscode-notebook-cell:/c%3A/Users/hbenoit/Desktop/DIET_Controller/src/OnOff.ipynb#ch0000002?line=8'>9</a>\u001b[0m \u001b[39mprint\u001b[39m(d)\n\u001b[0;32m     <a href='vscode-notebook-cell:/c%3A/Users/hbenoit/Desktop/DIET_Controller/src/OnOff.ipynb#ch0000002?line=10'>11</a>\u001b[0m agent \u001b[39m=\u001b[39m DQNAgent(DiscreteSimpleEnvironment(discrete_action_dim\u001b[39m=\u001b[39md[\u001b[39m\"\u001b[39m\u001b[39mdiscrete_action_dim\u001b[39m\u001b[39m\"\u001b[39m]))\n\u001b[1;32m---> <a href='vscode-notebook-cell:/c%3A/Users/hbenoit/Desktop/DIET_Controller/src/OnOff.ipynb#ch0000002?line=12'>13</a>\u001b[0m agent \u001b[39m=\u001b[39m load_trained_agent(agent,results_path\u001b[39m=\u001b[39;49mresults_path)\n",
      "File \u001b[1;32mc:\\Users\\hbenoit\\Desktop\\DIET_Controller\\src\\Performance.py:429\u001b[0m, in \u001b[0;36mload_trained_agent\u001b[1;34m(agent, results_path)\u001b[0m\n\u001b[0;32m    <a href='file:///c%3A/Users/hbenoit/Desktop/DIET_Controller/src/Performance.py?line=426'>427</a>\u001b[0m \u001b[39mif\u001b[39;00m \u001b[39mlen\u001b[39m(\u001b[39mlist\u001b[39m(Path(results_path)\u001b[39m.\u001b[39mglob(\u001b[39m\"\u001b[39m\u001b[39m**/torch_ep_summary*.pth\u001b[39m\u001b[39m\"\u001b[39m))) \u001b[39m>\u001b[39m \u001b[39m0\u001b[39m:\n\u001b[0;32m    <a href='file:///c%3A/Users/hbenoit/Desktop/DIET_Controller/src/Performance.py?line=427'>428</a>\u001b[0m     \u001b[39mfor\u001b[39;00m path \u001b[39min\u001b[39;00m Path(results_path)\u001b[39m.\u001b[39mglob(\u001b[39m\"\u001b[39m\u001b[39m**/torch_ep_summary*.pth\u001b[39m\u001b[39m\"\u001b[39m):\n\u001b[1;32m--> <a href='file:///c%3A/Users/hbenoit/Desktop/DIET_Controller/src/Performance.py?line=428'>429</a>\u001b[0m         agent\u001b[39m.\u001b[39;49mload(directory\u001b[39m=\u001b[39;49m\u001b[39mstr\u001b[39;49m(path\u001b[39m.\u001b[39;49mparent), filename\u001b[39m=\u001b[39;49m\u001b[39m\"\u001b[39;49m\u001b[39mtorch_ep_summary\u001b[39;49m\u001b[39m\"\u001b[39;49m)\n\u001b[0;32m    <a href='file:///c%3A/Users/hbenoit/Desktop/DIET_Controller/src/Performance.py?line=430'>431</a>\u001b[0m         \u001b[39mreturn\u001b[39;00m agent\n\u001b[0;32m    <a href='file:///c%3A/Users/hbenoit/Desktop/DIET_Controller/src/Performance.py?line=432'>433</a>\u001b[0m \u001b[39melif\u001b[39;00m  \u001b[39mlen\u001b[39m(\u001b[39mlist\u001b[39m(Path(results_path)\u001b[39m.\u001b[39mglob(\u001b[39m\"\u001b[39m\u001b[39m**/torch_ep_1*.pth\u001b[39m\u001b[39m\"\u001b[39m))) \u001b[39m>\u001b[39m \u001b[39m0\u001b[39m:\n",
      "File \u001b[1;32mc:\\Users\\hbenoit\\Desktop\\DIET_Controller\\src\\agent\\DQN_Agent.py:192\u001b[0m, in \u001b[0;36mDQNAgent.load\u001b[1;34m(self, filename, directory)\u001b[0m\n\u001b[0;32m    <a href='file:///c%3A/Users/hbenoit/Desktop/DIET_Controller/src/agent/DQN_Agent.py?line=189'>190</a>\u001b[0m \u001b[39m\"\"\"We refer to the Agent class docstring.\"\"\"\u001b[39;00m\n\u001b[0;32m    <a href='file:///c%3A/Users/hbenoit/Desktop/DIET_Controller/src/agent/DQN_Agent.py?line=190'>191</a>\u001b[0m state_dict \u001b[39m=\u001b[39m torch\u001b[39m.\u001b[39mload(\u001b[39m\"\u001b[39m\u001b[39m%s\u001b[39;00m\u001b[39m/\u001b[39m\u001b[39m%s\u001b[39;00m\u001b[39m_dqn.pth\u001b[39m\u001b[39m\"\u001b[39m \u001b[39m%\u001b[39m (directory, filename))\n\u001b[1;32m--> <a href='file:///c%3A/Users/hbenoit/Desktop/DIET_Controller/src/agent/DQN_Agent.py?line=191'>192</a>\u001b[0m \u001b[39mself\u001b[39;49m\u001b[39m.\u001b[39;49mdqn\u001b[39m.\u001b[39;49mload_state_dict(state_dict)\n\u001b[0;32m    <a href='file:///c%3A/Users/hbenoit/Desktop/DIET_Controller/src/agent/DQN_Agent.py?line=192'>193</a>\u001b[0m \u001b[39mself\u001b[39m\u001b[39m.\u001b[39mdqn_target\u001b[39m.\u001b[39mload_state_dict(\n\u001b[0;32m    <a href='file:///c%3A/Users/hbenoit/Desktop/DIET_Controller/src/agent/DQN_Agent.py?line=193'>194</a>\u001b[0m     torch\u001b[39m.\u001b[39mload(\u001b[39m\"\u001b[39m\u001b[39m%s\u001b[39;00m\u001b[39m/\u001b[39m\u001b[39m%s\u001b[39;00m\u001b[39m_dqn_target.pth\u001b[39m\u001b[39m\"\u001b[39m \u001b[39m%\u001b[39m (directory, filename))\n\u001b[0;32m    <a href='file:///c%3A/Users/hbenoit/Desktop/DIET_Controller/src/agent/DQN_Agent.py?line=194'>195</a>\u001b[0m )\n",
      "File \u001b[1;32mc:\\Users\\hbenoit\\Anaconda3\\envs\\eplus\\lib\\site-packages\\torch\\nn\\modules\\module.py:1497\u001b[0m, in \u001b[0;36mModule.load_state_dict\u001b[1;34m(self, state_dict, strict)\u001b[0m\n\u001b[0;32m   <a href='file:///c%3A/Users/hbenoit/Anaconda3/envs/eplus/lib/site-packages/torch/nn/modules/module.py?line=1491'>1492</a>\u001b[0m         error_msgs\u001b[39m.\u001b[39minsert(\n\u001b[0;32m   <a href='file:///c%3A/Users/hbenoit/Anaconda3/envs/eplus/lib/site-packages/torch/nn/modules/module.py?line=1492'>1493</a>\u001b[0m             \u001b[39m0\u001b[39m, \u001b[39m'\u001b[39m\u001b[39mMissing key(s) in state_dict: \u001b[39m\u001b[39m{}\u001b[39;00m\u001b[39m. \u001b[39m\u001b[39m'\u001b[39m\u001b[39m.\u001b[39mformat(\n\u001b[0;32m   <a href='file:///c%3A/Users/hbenoit/Anaconda3/envs/eplus/lib/site-packages/torch/nn/modules/module.py?line=1493'>1494</a>\u001b[0m                 \u001b[39m'\u001b[39m\u001b[39m, \u001b[39m\u001b[39m'\u001b[39m\u001b[39m.\u001b[39mjoin(\u001b[39m'\u001b[39m\u001b[39m\"\u001b[39m\u001b[39m{}\u001b[39;00m\u001b[39m\"\u001b[39m\u001b[39m'\u001b[39m\u001b[39m.\u001b[39mformat(k) \u001b[39mfor\u001b[39;00m k \u001b[39min\u001b[39;00m missing_keys)))\n\u001b[0;32m   <a href='file:///c%3A/Users/hbenoit/Anaconda3/envs/eplus/lib/site-packages/torch/nn/modules/module.py?line=1495'>1496</a>\u001b[0m \u001b[39mif\u001b[39;00m \u001b[39mlen\u001b[39m(error_msgs) \u001b[39m>\u001b[39m \u001b[39m0\u001b[39m:\n\u001b[1;32m-> <a href='file:///c%3A/Users/hbenoit/Anaconda3/envs/eplus/lib/site-packages/torch/nn/modules/module.py?line=1496'>1497</a>\u001b[0m     \u001b[39mraise\u001b[39;00m \u001b[39mRuntimeError\u001b[39;00m(\u001b[39m'\u001b[39m\u001b[39mError(s) in loading state_dict for \u001b[39m\u001b[39m{}\u001b[39;00m\u001b[39m:\u001b[39m\u001b[39m\\n\u001b[39;00m\u001b[39m\\t\u001b[39;00m\u001b[39m{}\u001b[39;00m\u001b[39m'\u001b[39m\u001b[39m.\u001b[39mformat(\n\u001b[0;32m   <a href='file:///c%3A/Users/hbenoit/Anaconda3/envs/eplus/lib/site-packages/torch/nn/modules/module.py?line=1497'>1498</a>\u001b[0m                        \u001b[39mself\u001b[39m\u001b[39m.\u001b[39m\u001b[39m__class__\u001b[39m\u001b[39m.\u001b[39m\u001b[39m__name__\u001b[39m, \u001b[39m\"\u001b[39m\u001b[39m\\n\u001b[39;00m\u001b[39m\\t\u001b[39;00m\u001b[39m\"\u001b[39m\u001b[39m.\u001b[39mjoin(error_msgs)))\n\u001b[0;32m   <a href='file:///c%3A/Users/hbenoit/Anaconda3/envs/eplus/lib/site-packages/torch/nn/modules/module.py?line=1498'>1499</a>\u001b[0m \u001b[39mreturn\u001b[39;00m _IncompatibleKeys(missing_keys, unexpected_keys)\n",
      "\u001b[1;31mRuntimeError\u001b[0m: Error(s) in loading state_dict for Network:\n\tMissing key(s) in state_dict: \"layers.6.weight\", \"layers.6.bias\", \"layers.8.weight\", \"layers.8.bias\", \"layers.10.weight\", \"layers.10.bias\", \"layers.12.weight\", \"layers.12.bias\", \"layers.14.weight\", \"layers.14.bias\", \"layers.16.weight\", \"layers.16.bias\", \"layers.18.weight\", \"layers.18.bias\", \"layers.20.weight\", \"layers.20.bias\", \"layers.22.weight\", \"layers.22.bias\", \"layers.24.weight\", \"layers.24.bias\", \"layers.26.weight\", \"layers.26.bias\", \"layers.28.weight\", \"layers.28.bias\", \"layers.30.weight\", \"layers.30.bias\". \n\tsize mismatch for layers.4.weight: copying a param with shape torch.Size([100, 128]) from checkpoint, the shape in current model is torch.Size([128, 128]).\n\tsize mismatch for layers.4.bias: copying a param with shape torch.Size([100]) from checkpoint, the shape in current model is torch.Size([128])."
     ]
    }
   ],
   "source": [
    "from Performance import load_trained_agent\n",
    "from Performance import open_json_params\n",
    "from agent.DQN_Agent import DQNAgent\n",
    "from environment.DiscreteEnvironment import DiscreteSimpleEnvironment\n",
    "\n",
    "results_path = r\"C:\\Users\\hbenoit\\Desktop\\DIET_Controller\\logs\\simple_simulation\\DQN_Agent\\results\\2022_6_15\\results_2022_6_15_7_31\"\n",
    "d= open_json_params(results_path)\n",
    "\n",
    "print(d)\n",
    "\n",
    "agent = DQNAgent(DiscreteSimpleEnvironment(discrete_action_dim=d[\"discrete_action_dim\"]))\n",
    "\n",
    "agent = load_trained_agent(agent,results_path=results_path)"
   ]
  },
  {
   "cell_type": "code",
   "execution_count": null,
   "metadata": {},
   "outputs": [],
   "source": [
    "env = ContinuousSimpleEnvironment(param_list=['Tair', 'RH', 'Tmrt', 'Tout', 'Qheat', 'Occ'],\n",
    "alpha=0.5,\n",
    "beta=1,\n",
    "min_temp=16,\n",
    "max_temp=21,\n",
    "modelname='CELLS_v1.fmu',\n",
    "simulation_path=r'C:\\Users\\Harold\\Desktop\\ENAC-Semester-Project\\DIET_Controller\\EnergyPlus_simulations\\simple_simulation',\n",
    "days=151,\n",
    "hours=24,\n",
    "minutes=60,\n",
    "seconds=60,\n",
    "ep_timestep=6)\n",
    "\n",
    "\n",
    "logging_path = r\"C:\\Users\\Harold\\Desktop\\ENAC-Semester-Project\\DIET_Controller\\logs\\simple_simulation\"\n",
    "\n",
    "\n",
    "agent = OnOffAgent(env=env)\n",
    "\n",
    "\n",
    "agent.train(logging_path=logging_path, num_episodes=1, num_iterations=200, log=True)"
   ]
  }
 ],
 "metadata": {
  "interpreter": {
   "hash": "4958ec7dcff5f5ebfb92a5bea20aeb391fd8141699bb6c6ea3d3d9a03f500564"
  },
  "kernelspec": {
   "display_name": "Python 3.9.12 ('eplus')",
   "language": "python",
   "name": "python3"
  },
  "language_info": {
   "codemirror_mode": {
    "name": "ipython",
    "version": 3
   },
   "file_extension": ".py",
   "mimetype": "text/x-python",
   "name": "python",
   "nbconvert_exporter": "python",
   "pygments_lexer": "ipython3",
   "version": "3.9.12"
  },
  "orig_nbformat": 4
 },
 "nbformat": 4,
 "nbformat_minor": 2
}
