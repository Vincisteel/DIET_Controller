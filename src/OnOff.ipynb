{
 "cells": [
  {
   "cell_type": "code",
   "execution_count": null,
   "metadata": {},
   "outputs": [],
   "source": [
    "\n",
    "\n",
    "from agent.OnOff_Agent import OnOffAgent\n",
    "from environment.ContinuousEnvironment import ContinuousSimpleEnvironment\n",
    "\n",
    "%load_ext autoreload\n",
    "%autoreload 2"
   ]
  },
  {
   "cell_type": "code",
   "execution_count": null,
   "metadata": {},
   "outputs": [],
   "source": [
    "from Performance import load_trained_agent\n",
    "from agent.DQN_Agent import DQNAgent\n",
    "from environment.DiscreteEnvironment import DiscreteSimpleEnvironment\n",
    "\n",
    "agent = DQNAgent(DiscreteSimpleEnvironment(discrete_action_dim=100))\n",
    "\n",
    "d = {\"num_hidden_layers\":2}\n",
    "\n",
    "agent = agent.from_dict(d).reset()\n",
    "\n",
    "agent.dqn.state_dict()['layers.6.weight']"
   ]
  },
  {
   "cell_type": "code",
   "execution_count": null,
   "metadata": {},
   "outputs": [],
   "source": [
    "from Performance import load_trained_agent\n",
    "from Performance import open_json_params\n",
    "from agent.DQN_Agent import DQNAgent\n",
    "from environment.DiscreteEnvironment import DiscreteSimpleEnvironment\n",
    "\n",
    "results_path = r'C:\\\\Users\\\\hbenoit\\\\Desktop\\\\DIET_Controller\\\\logs\\\\simple_simulation/DQN_Agent/results/2022_6_15/results_2022_6_15_9_41'\n",
    "\n",
    "agent = DQNAgent(DiscreteSimpleEnvironment(discrete_action_dim=open_json_params(results_path)[\"discrete_action_dim\"]))\n",
    "\n",
    "agent = load_trained_agent(agent,results_path=results_path)"
   ]
  },
  {
   "cell_type": "code",
   "execution_count": null,
   "metadata": {},
   "outputs": [],
   "source": [
    "env = ContinuousSimpleEnvironment(param_list=['Tair', 'RH', 'Tmrt', 'Tout', 'Qheat', 'Occ'],\n",
    "alpha=0.5,\n",
    "beta=1,\n",
    "min_temp=16,\n",
    "max_temp=21,\n",
    "modelname='CELLS_v1.fmu',\n",
    "simulation_path=r'C:\\Users\\Harold\\Desktop\\ENAC-Semester-Project\\DIET_Controller\\EnergyPlus_simulations\\simple_simulation',\n",
    "days=151,\n",
    "hours=24,\n",
    "minutes=60,\n",
    "seconds=60,\n",
    "ep_timestep=6)\n",
    "\n",
    "\n",
    "logging_path = r\"C:\\Users\\Harold\\Desktop\\ENAC-Semester-Project\\DIET_Controller\\logs\\simple_simulation\"\n",
    "\n",
    "\n",
    "agent = OnOffAgent(env=env)\n",
    "\n",
    "\n",
    "agent.train(logging_path=logging_path, num_episodes=1, num_iterations=200, log=True)"
   ]
  }
 ],
 "metadata": {
  "interpreter": {
   "hash": "4958ec7dcff5f5ebfb92a5bea20aeb391fd8141699bb6c6ea3d3d9a03f500564"
  },
  "kernelspec": {
   "display_name": "Python 3.9.12 ('eplus')",
   "language": "python",
   "name": "python3"
  },
  "language_info": {
   "codemirror_mode": {
    "name": "ipython",
    "version": 3
   },
   "file_extension": ".py",
   "mimetype": "text/x-python",
   "name": "python",
   "nbconvert_exporter": "python",
   "pygments_lexer": "ipython3",
   "version": "3.9.12"
  },
  "orig_nbformat": 4
 },
 "nbformat": 4,
 "nbformat_minor": 2
}
